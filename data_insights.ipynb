{
 "cells": [
  {
   "cell_type": "code",
   "execution_count": 226,
   "metadata": {},
   "outputs": [],
   "source": [
    "import pandas as pd\n",
    "import numpy as np\n",
    "import seaborn as sns\n",
    "import matplotlib.pyplot as plt\n",
    "from groupby_helper import GroupbyHelper\n",
    "from plot_helper import PlotHelper\n",
    "import warnings\n",
    "\n",
    "warnings.filterwarnings(\"ignore\")"
   ]
  },
  {
   "cell_type": "code",
   "execution_count": 227,
   "metadata": {},
   "outputs": [],
   "source": [
    "df = pd.read_csv('airbnb_listings_clean_data.csv')"
   ]
  },
  {
   "cell_type": "markdown",
   "metadata": {},
   "source": [
    "<h1 style='color: #ff526f; font-family: \"Orbitron\"'> Data Exploration</h1>"
   ]
  },
  {
   "cell_type": "code",
   "execution_count": 228,
   "metadata": {},
   "outputs": [
    {
     "data": {
      "text/html": [
       "<div>\n",
       "<style scoped>\n",
       "    .dataframe tbody tr th:only-of-type {\n",
       "        vertical-align: middle;\n",
       "    }\n",
       "\n",
       "    .dataframe tbody tr th {\n",
       "        vertical-align: top;\n",
       "    }\n",
       "\n",
       "    .dataframe thead th {\n",
       "        text-align: right;\n",
       "    }\n",
       "</style>\n",
       "<table border=\"1\" class=\"dataframe\">\n",
       "  <thead>\n",
       "    <tr style=\"text-align: right;\">\n",
       "      <th></th>\n",
       "      <th>host_id</th>\n",
       "      <th>host_name</th>\n",
       "      <th>property_type</th>\n",
       "      <th>bedrooms</th>\n",
       "      <th>beds</th>\n",
       "      <th>bathrooms</th>\n",
       "      <th>ratings</th>\n",
       "      <th>neighbourhood</th>\n",
       "      <th>latitude</th>\n",
       "      <th>longitude</th>\n",
       "      <th>room_type</th>\n",
       "      <th>daily_price</th>\n",
       "      <th>minimum_nights</th>\n",
       "      <th>number_of_reviews</th>\n",
       "      <th>last_review</th>\n",
       "      <th>reviews_per_month</th>\n",
       "      <th>calculated_host_listings_count</th>\n",
       "      <th>availability_365</th>\n",
       "      <th>number_of_reviews_ltm</th>\n",
       "    </tr>\n",
       "  </thead>\n",
       "  <tbody>\n",
       "    <tr>\n",
       "      <th>0</th>\n",
       "      <td>8028</td>\n",
       "      <td>Sylvia</td>\n",
       "      <td>Guesthouse</td>\n",
       "      <td>1.0</td>\n",
       "      <td>2</td>\n",
       "      <td>1.0</td>\n",
       "      <td>4.84</td>\n",
       "      <td>78702</td>\n",
       "      <td>30.26057</td>\n",
       "      <td>-97.73441</td>\n",
       "      <td>Entire home/apt</td>\n",
       "      <td>126</td>\n",
       "      <td>2</td>\n",
       "      <td>657</td>\n",
       "      <td>2023-08-27</td>\n",
       "      <td>3.72</td>\n",
       "      <td>1</td>\n",
       "      <td>306</td>\n",
       "      <td>42</td>\n",
       "    </tr>\n",
       "    <tr>\n",
       "      <th>1</th>\n",
       "      <td>8186</td>\n",
       "      <td>Elizabeth</td>\n",
       "      <td>Home</td>\n",
       "      <td>1.0</td>\n",
       "      <td>1</td>\n",
       "      <td>1.0</td>\n",
       "      <td>4.90</td>\n",
       "      <td>78729</td>\n",
       "      <td>30.45697</td>\n",
       "      <td>-97.78422</td>\n",
       "      <td>Private room</td>\n",
       "      <td>45</td>\n",
       "      <td>1</td>\n",
       "      <td>290</td>\n",
       "      <td>2023-08-04</td>\n",
       "      <td>1.77</td>\n",
       "      <td>1</td>\n",
       "      <td>0</td>\n",
       "      <td>21</td>\n",
       "    </tr>\n",
       "    <tr>\n",
       "      <th>2</th>\n",
       "      <td>13879</td>\n",
       "      <td>Todd</td>\n",
       "      <td>Guesthouse</td>\n",
       "      <td>0.5</td>\n",
       "      <td>1</td>\n",
       "      <td>1.0</td>\n",
       "      <td>4.97</td>\n",
       "      <td>78704</td>\n",
       "      <td>30.24885</td>\n",
       "      <td>-97.73587</td>\n",
       "      <td>Entire home/apt</td>\n",
       "      <td>57</td>\n",
       "      <td>30</td>\n",
       "      <td>122</td>\n",
       "      <td>2022-10-17</td>\n",
       "      <td>0.73</td>\n",
       "      <td>1</td>\n",
       "      <td>0</td>\n",
       "      <td>3</td>\n",
       "    </tr>\n",
       "  </tbody>\n",
       "</table>\n",
       "</div>"
      ],
      "text/plain": [
       "   host_id  host_name property_type  bedrooms  beds  bathrooms  ratings  \\\n",
       "0     8028     Sylvia    Guesthouse       1.0     2        1.0     4.84   \n",
       "1     8186  Elizabeth          Home       1.0     1        1.0     4.90   \n",
       "2    13879       Todd    Guesthouse       0.5     1        1.0     4.97   \n",
       "\n",
       "   neighbourhood  latitude  longitude        room_type  daily_price  \\\n",
       "0          78702  30.26057  -97.73441  Entire home/apt          126   \n",
       "1          78729  30.45697  -97.78422     Private room           45   \n",
       "2          78704  30.24885  -97.73587  Entire home/apt           57   \n",
       "\n",
       "   minimum_nights  number_of_reviews last_review  reviews_per_month  \\\n",
       "0               2                657  2023-08-27               3.72   \n",
       "1               1                290  2023-08-04               1.77   \n",
       "2              30                122  2022-10-17               0.73   \n",
       "\n",
       "   calculated_host_listings_count  availability_365  number_of_reviews_ltm  \n",
       "0                               1               306                     42  \n",
       "1                               1                 0                     21  \n",
       "2                               1                 0                      3  "
      ]
     },
     "execution_count": 228,
     "metadata": {},
     "output_type": "execute_result"
    }
   ],
   "source": [
    "df.head(3)   # first 3 rows"
   ]
  },
  {
   "cell_type": "code",
   "execution_count": 229,
   "metadata": {},
   "outputs": [
    {
     "data": {
      "text/html": [
       "<div>\n",
       "<style scoped>\n",
       "    .dataframe tbody tr th:only-of-type {\n",
       "        vertical-align: middle;\n",
       "    }\n",
       "\n",
       "    .dataframe tbody tr th {\n",
       "        vertical-align: top;\n",
       "    }\n",
       "\n",
       "    .dataframe thead th {\n",
       "        text-align: right;\n",
       "    }\n",
       "</style>\n",
       "<table border=\"1\" class=\"dataframe\">\n",
       "  <thead>\n",
       "    <tr style=\"text-align: right;\">\n",
       "      <th></th>\n",
       "      <th>host_id</th>\n",
       "      <th>host_name</th>\n",
       "      <th>property_type</th>\n",
       "      <th>bedrooms</th>\n",
       "      <th>beds</th>\n",
       "      <th>bathrooms</th>\n",
       "      <th>ratings</th>\n",
       "      <th>neighbourhood</th>\n",
       "      <th>latitude</th>\n",
       "      <th>longitude</th>\n",
       "      <th>room_type</th>\n",
       "      <th>daily_price</th>\n",
       "      <th>minimum_nights</th>\n",
       "      <th>number_of_reviews</th>\n",
       "      <th>last_review</th>\n",
       "      <th>reviews_per_month</th>\n",
       "      <th>calculated_host_listings_count</th>\n",
       "      <th>availability_365</th>\n",
       "      <th>number_of_reviews_ltm</th>\n",
       "    </tr>\n",
       "  </thead>\n",
       "  <tbody>\n",
       "    <tr>\n",
       "      <th>9597</th>\n",
       "      <td>247023420</td>\n",
       "      <td>Bon Voyage</td>\n",
       "      <td>Rental unit</td>\n",
       "      <td>2.0</td>\n",
       "      <td>4</td>\n",
       "      <td>2.0</td>\n",
       "      <td>5.00</td>\n",
       "      <td>78702</td>\n",
       "      <td>30.263453</td>\n",
       "      <td>-97.734747</td>\n",
       "      <td>Entire home/apt</td>\n",
       "      <td>149</td>\n",
       "      <td>3</td>\n",
       "      <td>3</td>\n",
       "      <td>2023-09-08</td>\n",
       "      <td>3.0</td>\n",
       "      <td>7</td>\n",
       "      <td>131</td>\n",
       "      <td>3</td>\n",
       "    </tr>\n",
       "    <tr>\n",
       "      <th>9598</th>\n",
       "      <td>274552333</td>\n",
       "      <td>Evonify</td>\n",
       "      <td>Rental unit</td>\n",
       "      <td>1.0</td>\n",
       "      <td>2</td>\n",
       "      <td>1.0</td>\n",
       "      <td>3.75</td>\n",
       "      <td>78741</td>\n",
       "      <td>30.235540</td>\n",
       "      <td>-97.724480</td>\n",
       "      <td>Entire home/apt</td>\n",
       "      <td>133</td>\n",
       "      <td>1</td>\n",
       "      <td>4</td>\n",
       "      <td>2023-09-04</td>\n",
       "      <td>4.0</td>\n",
       "      <td>126</td>\n",
       "      <td>340</td>\n",
       "      <td>4</td>\n",
       "    </tr>\n",
       "    <tr>\n",
       "      <th>9599</th>\n",
       "      <td>533303454</td>\n",
       "      <td>Joby</td>\n",
       "      <td>Home</td>\n",
       "      <td>4.0</td>\n",
       "      <td>9</td>\n",
       "      <td>2.5</td>\n",
       "      <td>5.00</td>\n",
       "      <td>78721</td>\n",
       "      <td>30.275258</td>\n",
       "      <td>-97.687154</td>\n",
       "      <td>Entire home/apt</td>\n",
       "      <td>183</td>\n",
       "      <td>1</td>\n",
       "      <td>3</td>\n",
       "      <td>2023-09-04</td>\n",
       "      <td>3.0</td>\n",
       "      <td>1</td>\n",
       "      <td>266</td>\n",
       "      <td>3</td>\n",
       "    </tr>\n",
       "  </tbody>\n",
       "</table>\n",
       "</div>"
      ],
      "text/plain": [
       "        host_id   host_name property_type  bedrooms  beds  bathrooms  ratings  \\\n",
       "9597  247023420  Bon Voyage   Rental unit       2.0     4        2.0     5.00   \n",
       "9598  274552333     Evonify   Rental unit       1.0     2        1.0     3.75   \n",
       "9599  533303454        Joby          Home       4.0     9        2.5     5.00   \n",
       "\n",
       "      neighbourhood   latitude  longitude        room_type  daily_price  \\\n",
       "9597          78702  30.263453 -97.734747  Entire home/apt          149   \n",
       "9598          78741  30.235540 -97.724480  Entire home/apt          133   \n",
       "9599          78721  30.275258 -97.687154  Entire home/apt          183   \n",
       "\n",
       "      minimum_nights  number_of_reviews last_review  reviews_per_month  \\\n",
       "9597               3                  3  2023-09-08                3.0   \n",
       "9598               1                  4  2023-09-04                4.0   \n",
       "9599               1                  3  2023-09-04                3.0   \n",
       "\n",
       "      calculated_host_listings_count  availability_365  number_of_reviews_ltm  \n",
       "9597                               7               131                      3  \n",
       "9598                             126               340                      4  \n",
       "9599                               1               266                      3  "
      ]
     },
     "execution_count": 229,
     "metadata": {},
     "output_type": "execute_result"
    }
   ],
   "source": [
    "df.tail(3)   # last 3 rows"
   ]
  },
  {
   "cell_type": "code",
   "execution_count": 230,
   "metadata": {},
   "outputs": [
    {
     "name": "stdout",
     "output_type": "stream",
     "text": [
      "<class 'pandas.core.frame.DataFrame'>\n",
      "RangeIndex: 9600 entries, 0 to 9599\n",
      "Data columns (total 19 columns):\n",
      " #   Column                          Non-Null Count  Dtype  \n",
      "---  ------                          --------------  -----  \n",
      " 0   host_id                         9600 non-null   int64  \n",
      " 1   host_name                       9600 non-null   object \n",
      " 2   property_type                   9600 non-null   object \n",
      " 3   bedrooms                        9600 non-null   float64\n",
      " 4   beds                            9600 non-null   int64  \n",
      " 5   bathrooms                       9600 non-null   float64\n",
      " 6   ratings                         9600 non-null   float64\n",
      " 7   neighbourhood                   9600 non-null   int64  \n",
      " 8   latitude                        9600 non-null   float64\n",
      " 9   longitude                       9600 non-null   float64\n",
      " 10  room_type                       9600 non-null   object \n",
      " 11  daily_price                     9600 non-null   int64  \n",
      " 12  minimum_nights                  9600 non-null   int64  \n",
      " 13  number_of_reviews               9600 non-null   int64  \n",
      " 14  last_review                     9600 non-null   object \n",
      " 15  reviews_per_month               9600 non-null   float64\n",
      " 16  calculated_host_listings_count  9600 non-null   int64  \n",
      " 17  availability_365                9600 non-null   int64  \n",
      " 18  number_of_reviews_ltm           9600 non-null   int64  \n",
      "dtypes: float64(6), int64(9), object(4)\n",
      "memory usage: 1.4+ MB\n"
     ]
    }
   ],
   "source": [
    "df.info()   # concise summary of the dataframe"
   ]
  },
  {
   "cell_type": "code",
   "execution_count": 231,
   "metadata": {},
   "outputs": [
    {
     "data": {
      "text/plain": [
       "(9600, 19)"
      ]
     },
     "execution_count": 231,
     "metadata": {},
     "output_type": "execute_result"
    }
   ],
   "source": [
    "df.shape    # 9600 rows and 19 colums"
   ]
  },
  {
   "cell_type": "code",
   "execution_count": 232,
   "metadata": {},
   "outputs": [],
   "source": [
    "df['neighbourhood'] = df['neighbourhood'].astype(object)    # should be a categorical value"
   ]
  },
  {
   "cell_type": "code",
   "execution_count": 233,
   "metadata": {},
   "outputs": [
    {
     "data": {
      "text/html": [
       "<div>\n",
       "<style scoped>\n",
       "    .dataframe tbody tr th:only-of-type {\n",
       "        vertical-align: middle;\n",
       "    }\n",
       "\n",
       "    .dataframe tbody tr th {\n",
       "        vertical-align: top;\n",
       "    }\n",
       "\n",
       "    .dataframe thead th {\n",
       "        text-align: right;\n",
       "    }\n",
       "</style>\n",
       "<table border=\"1\" class=\"dataframe\">\n",
       "  <thead>\n",
       "    <tr style=\"text-align: right;\">\n",
       "      <th></th>\n",
       "      <th>host_id</th>\n",
       "      <th>bedrooms</th>\n",
       "      <th>beds</th>\n",
       "      <th>bathrooms</th>\n",
       "      <th>ratings</th>\n",
       "      <th>latitude</th>\n",
       "      <th>longitude</th>\n",
       "      <th>daily_price</th>\n",
       "      <th>minimum_nights</th>\n",
       "      <th>number_of_reviews</th>\n",
       "      <th>reviews_per_month</th>\n",
       "      <th>calculated_host_listings_count</th>\n",
       "      <th>availability_365</th>\n",
       "      <th>number_of_reviews_ltm</th>\n",
       "    </tr>\n",
       "  </thead>\n",
       "  <tbody>\n",
       "    <tr>\n",
       "      <th>count</th>\n",
       "      <td>9.600000e+03</td>\n",
       "      <td>9600.000000</td>\n",
       "      <td>9600.000000</td>\n",
       "      <td>9600.000000</td>\n",
       "      <td>9600.000000</td>\n",
       "      <td>9600.000000</td>\n",
       "      <td>9600.000000</td>\n",
       "      <td>9600.000000</td>\n",
       "      <td>9600.000000</td>\n",
       "      <td>9600.000000</td>\n",
       "      <td>9600.000000</td>\n",
       "      <td>9600.000000</td>\n",
       "      <td>9600.000000</td>\n",
       "      <td>9600.000000</td>\n",
       "    </tr>\n",
       "    <tr>\n",
       "      <th>mean</th>\n",
       "      <td>1.345408e+08</td>\n",
       "      <td>2.062813</td>\n",
       "      <td>2.805625</td>\n",
       "      <td>1.642292</td>\n",
       "      <td>4.835458</td>\n",
       "      <td>30.279070</td>\n",
       "      <td>-97.749724</td>\n",
       "      <td>230.474583</td>\n",
       "      <td>6.011667</td>\n",
       "      <td>57.446146</td>\n",
       "      <td>1.793016</td>\n",
       "      <td>9.197917</td>\n",
       "      <td>157.966563</td>\n",
       "      <td>15.741875</td>\n",
       "    </tr>\n",
       "    <tr>\n",
       "      <th>std</th>\n",
       "      <td>1.536274e+08</td>\n",
       "      <td>1.338742</td>\n",
       "      <td>2.445729</td>\n",
       "      <td>0.914693</td>\n",
       "      <td>0.248389</td>\n",
       "      <td>0.063234</td>\n",
       "      <td>0.063876</td>\n",
       "      <td>351.235223</td>\n",
       "      <td>28.234867</td>\n",
       "      <td>92.513057</td>\n",
       "      <td>1.768172</td>\n",
       "      <td>19.930607</td>\n",
       "      <td>131.323732</td>\n",
       "      <td>19.095126</td>\n",
       "    </tr>\n",
       "    <tr>\n",
       "      <th>min</th>\n",
       "      <td>2.300000e+01</td>\n",
       "      <td>0.500000</td>\n",
       "      <td>1.000000</td>\n",
       "      <td>0.000000</td>\n",
       "      <td>0.000000</td>\n",
       "      <td>30.078440</td>\n",
       "      <td>-98.053350</td>\n",
       "      <td>10.000000</td>\n",
       "      <td>1.000000</td>\n",
       "      <td>3.000000</td>\n",
       "      <td>0.020000</td>\n",
       "      <td>1.000000</td>\n",
       "      <td>0.000000</td>\n",
       "      <td>0.000000</td>\n",
       "    </tr>\n",
       "    <tr>\n",
       "      <th>25%</th>\n",
       "      <td>1.395554e+07</td>\n",
       "      <td>1.000000</td>\n",
       "      <td>1.000000</td>\n",
       "      <td>1.000000</td>\n",
       "      <td>4.780000</td>\n",
       "      <td>30.240609</td>\n",
       "      <td>-97.768433</td>\n",
       "      <td>92.000000</td>\n",
       "      <td>1.000000</td>\n",
       "      <td>9.000000</td>\n",
       "      <td>0.460000</td>\n",
       "      <td>1.000000</td>\n",
       "      <td>29.000000</td>\n",
       "      <td>2.000000</td>\n",
       "    </tr>\n",
       "    <tr>\n",
       "      <th>50%</th>\n",
       "      <td>6.062818e+07</td>\n",
       "      <td>2.000000</td>\n",
       "      <td>2.000000</td>\n",
       "      <td>1.000000</td>\n",
       "      <td>4.910000</td>\n",
       "      <td>30.265945</td>\n",
       "      <td>-97.738831</td>\n",
       "      <td>142.000000</td>\n",
       "      <td>2.000000</td>\n",
       "      <td>24.000000</td>\n",
       "      <td>1.290000</td>\n",
       "      <td>2.000000</td>\n",
       "      <td>140.000000</td>\n",
       "      <td>9.000000</td>\n",
       "    </tr>\n",
       "    <tr>\n",
       "      <th>75%</th>\n",
       "      <td>2.225726e+08</td>\n",
       "      <td>3.000000</td>\n",
       "      <td>3.000000</td>\n",
       "      <td>2.000000</td>\n",
       "      <td>5.000000</td>\n",
       "      <td>30.307555</td>\n",
       "      <td>-97.716017</td>\n",
       "      <td>243.000000</td>\n",
       "      <td>3.000000</td>\n",
       "      <td>62.000000</td>\n",
       "      <td>2.590000</td>\n",
       "      <td>6.000000</td>\n",
       "      <td>301.000000</td>\n",
       "      <td>23.000000</td>\n",
       "    </tr>\n",
       "    <tr>\n",
       "      <th>max</th>\n",
       "      <td>5.333035e+08</td>\n",
       "      <td>23.000000</td>\n",
       "      <td>61.000000</td>\n",
       "      <td>17.000000</td>\n",
       "      <td>5.000000</td>\n",
       "      <td>30.510093</td>\n",
       "      <td>-97.574010</td>\n",
       "      <td>10000.000000</td>\n",
       "      <td>1124.000000</td>\n",
       "      <td>1141.000000</td>\n",
       "      <td>26.250000</td>\n",
       "      <td>126.000000</td>\n",
       "      <td>365.000000</td>\n",
       "      <td>258.000000</td>\n",
       "    </tr>\n",
       "  </tbody>\n",
       "</table>\n",
       "</div>"
      ],
      "text/plain": [
       "            host_id     bedrooms         beds    bathrooms      ratings  \\\n",
       "count  9.600000e+03  9600.000000  9600.000000  9600.000000  9600.000000   \n",
       "mean   1.345408e+08     2.062813     2.805625     1.642292     4.835458   \n",
       "std    1.536274e+08     1.338742     2.445729     0.914693     0.248389   \n",
       "min    2.300000e+01     0.500000     1.000000     0.000000     0.000000   \n",
       "25%    1.395554e+07     1.000000     1.000000     1.000000     4.780000   \n",
       "50%    6.062818e+07     2.000000     2.000000     1.000000     4.910000   \n",
       "75%    2.225726e+08     3.000000     3.000000     2.000000     5.000000   \n",
       "max    5.333035e+08    23.000000    61.000000    17.000000     5.000000   \n",
       "\n",
       "          latitude    longitude   daily_price  minimum_nights  \\\n",
       "count  9600.000000  9600.000000   9600.000000     9600.000000   \n",
       "mean     30.279070   -97.749724    230.474583        6.011667   \n",
       "std       0.063234     0.063876    351.235223       28.234867   \n",
       "min      30.078440   -98.053350     10.000000        1.000000   \n",
       "25%      30.240609   -97.768433     92.000000        1.000000   \n",
       "50%      30.265945   -97.738831    142.000000        2.000000   \n",
       "75%      30.307555   -97.716017    243.000000        3.000000   \n",
       "max      30.510093   -97.574010  10000.000000     1124.000000   \n",
       "\n",
       "       number_of_reviews  reviews_per_month  calculated_host_listings_count  \\\n",
       "count        9600.000000        9600.000000                     9600.000000   \n",
       "mean           57.446146           1.793016                        9.197917   \n",
       "std            92.513057           1.768172                       19.930607   \n",
       "min             3.000000           0.020000                        1.000000   \n",
       "25%             9.000000           0.460000                        1.000000   \n",
       "50%            24.000000           1.290000                        2.000000   \n",
       "75%            62.000000           2.590000                        6.000000   \n",
       "max          1141.000000          26.250000                      126.000000   \n",
       "\n",
       "       availability_365  number_of_reviews_ltm  \n",
       "count       9600.000000            9600.000000  \n",
       "mean         157.966563              15.741875  \n",
       "std          131.323732              19.095126  \n",
       "min            0.000000               0.000000  \n",
       "25%           29.000000               2.000000  \n",
       "50%          140.000000               9.000000  \n",
       "75%          301.000000              23.000000  \n",
       "max          365.000000             258.000000  "
      ]
     },
     "execution_count": 233,
     "metadata": {},
     "output_type": "execute_result"
    }
   ],
   "source": [
    "df.describe() # get statistical summary for numerical columns"
   ]
  },
  {
   "cell_type": "code",
   "execution_count": 234,
   "metadata": {},
   "outputs": [
    {
     "data": {
      "text/html": [
       "<div>\n",
       "<style scoped>\n",
       "    .dataframe tbody tr th:only-of-type {\n",
       "        vertical-align: middle;\n",
       "    }\n",
       "\n",
       "    .dataframe tbody tr th {\n",
       "        vertical-align: top;\n",
       "    }\n",
       "\n",
       "    .dataframe thead th {\n",
       "        text-align: right;\n",
       "    }\n",
       "</style>\n",
       "<table border=\"1\" class=\"dataframe\">\n",
       "  <thead>\n",
       "    <tr style=\"text-align: right;\">\n",
       "      <th></th>\n",
       "      <th>host_name</th>\n",
       "      <th>property_type</th>\n",
       "      <th>neighbourhood</th>\n",
       "      <th>room_type</th>\n",
       "      <th>last_review</th>\n",
       "    </tr>\n",
       "  </thead>\n",
       "  <tbody>\n",
       "    <tr>\n",
       "      <th>count</th>\n",
       "      <td>9600</td>\n",
       "      <td>9600</td>\n",
       "      <td>9600</td>\n",
       "      <td>9600</td>\n",
       "      <td>9600</td>\n",
       "    </tr>\n",
       "    <tr>\n",
       "      <th>unique</th>\n",
       "      <td>2593</td>\n",
       "      <td>38</td>\n",
       "      <td>43</td>\n",
       "      <td>3</td>\n",
       "      <td>1188</td>\n",
       "    </tr>\n",
       "    <tr>\n",
       "      <th>top</th>\n",
       "      <td>Vacasa Texas</td>\n",
       "      <td>Home</td>\n",
       "      <td>78704</td>\n",
       "      <td>Entire home/apt</td>\n",
       "      <td>2023-09-04</td>\n",
       "    </tr>\n",
       "    <tr>\n",
       "      <th>freq</th>\n",
       "      <td>170</td>\n",
       "      <td>4853</td>\n",
       "      <td>1552</td>\n",
       "      <td>8283</td>\n",
       "      <td>767</td>\n",
       "    </tr>\n",
       "  </tbody>\n",
       "</table>\n",
       "</div>"
      ],
      "text/plain": [
       "           host_name property_type  neighbourhood        room_type last_review\n",
       "count           9600          9600           9600             9600        9600\n",
       "unique          2593            38             43                3        1188\n",
       "top     Vacasa Texas          Home          78704  Entire home/apt  2023-09-04\n",
       "freq             170          4853           1552             8283         767"
      ]
     },
     "execution_count": 234,
     "metadata": {},
     "output_type": "execute_result"
    }
   ],
   "source": [
    "df.describe(include='object') # summary for non-numeric columns"
   ]
  },
  {
   "cell_type": "code",
   "execution_count": 235,
   "metadata": {},
   "outputs": [],
   "source": [
    "# initialize helper classes\n",
    "gph = GroupbyHelper()\n",
    "plth = PlotHelper()"
   ]
  },
  {
   "cell_type": "markdown",
   "metadata": {},
   "source": [
    "<h1 style='color: #40b9ff; font-family: \"Orbitron\"'> Data Analysis</h1>"
   ]
  },
  {
   "cell_type": "markdown",
   "metadata": {},
   "source": [
    "### 1. Analysis by Neighbourhood"
   ]
  },
  {
   "cell_type": "code",
   "execution_count": 236,
   "metadata": {},
   "outputs": [],
   "source": [
    "# group data by min_nights\n",
    "neighbourhood_group_df = gph.get_grouped_df(df, 'neighbourhood')"
   ]
  },
  {
   "cell_type": "code",
   "execution_count": 237,
   "metadata": {},
   "outputs": [],
   "source": [
    "# top 5 neighbourhoods by number of listings\n",
    "\n",
    "neighbourhood_listings_sorted = gph.sort_group_df(neighbourhood_group_df, 'num_listings')\n",
    "top_neighbourhood_listings = neighbourhood_listings_sorted.iloc[:5, :2]"
   ]
  },
  {
   "cell_type": "code",
   "execution_count": 238,
   "metadata": {},
   "outputs": [
    {
     "data": {
      "image/png": "[encoded data removed]",
      "text/plain": [
       "<Figure size 1100x300 with 1 Axes>"
      ]
     },
     "metadata": {},
     "output_type": "display_data"
    }
   ],
   "source": [
    "plth.plot_bar_graph('neighbourhood', 'num_listings', data=neighbourhood_listings_sorted, decimal_count=0, x_size=11, y_size=3)"
   ]
  },
  {
   "cell_type": "code",
   "execution_count": 239,
   "metadata": {},
   "outputs": [
    {
     "name": "stdout",
     "output_type": "stream",
     "text": [
      "avg_of_avg_ratings: 4.831627906976744, avg_num_listings: 223.25581395348837, avg_total_reviews: 12825.186046511628\n"
     ]
    }
   ],
   "source": [
    "# create and apply neighbourhood group filter\n",
    "\n",
    "neighbourhood_grp_filtered_df = gph.get_filtered_df(neighbourhood_group_df)"
   ]
  },
  {
   "cell_type": "code",
   "execution_count": 240,
   "metadata": {},
   "outputs": [],
   "source": [
    "# top 5 neighbourhoods by highest review_density\n",
    "\n",
    "neighbourhood_review_density_sorted = gph.sort_group_df(neighbourhood_grp_filtered_df, 'review_density')\n",
    "top_neighbourhood_review_density = neighbourhood_review_density_sorted.iloc[:5, [0, 1, -1]]"
   ]
  },
  {
   "cell_type": "code",
   "execution_count": 241,
   "metadata": {},
   "outputs": [
    {
     "data": {
      "image/png": "[encoded data removed]",
      "text/plain": [
       "<Figure size 500x300 with 1 Axes>"
      ]
     },
     "metadata": {},
     "output_type": "display_data"
    }
   ],
   "source": [
    "plth.plot_bar_graph('neighbourhood', 'review_density', data=neighbourhood_review_density_sorted, decimal_count=2, x_size=5, y_size=3, palette='plasma', alpha=0.8)"
   ]
  },
  {
   "cell_type": "code",
   "execution_count": 242,
   "metadata": {},
   "outputs": [],
   "source": [
    "# top neighbourhoods by higest percentage of 5 star ratings and custom filter\n",
    "\n",
    "neighbourhood_5_star_rating_sorted = gph.sort_group_df(neighbourhood_grp_filtered_df, '5_star_rating(%)')\n",
    "top_neighbourhood_5_star_rating = neighbourhood_5_star_rating_sorted.iloc[:10, [0, 1, 3]]"
   ]
  },
  {
   "cell_type": "code",
   "execution_count": 243,
   "metadata": {},
   "outputs": [
    {
     "data": {
      "image/png": "[encoded data removed]",
      "text/plain": [
       "<Figure size 500x300 with 1 Axes>"
      ]
     },
     "metadata": {},
     "output_type": "display_data"
    }
   ],
   "source": [
    "plth.plot_bar_graph('neighbourhood', '5_star_rating(%)', data=neighbourhood_5_star_rating_sorted, decimal_count=2, x_size=5, y_size=3, palette='viridis', alpha=0.8)"
   ]
  },
  {
   "cell_type": "code",
   "execution_count": 244,
   "metadata": {},
   "outputs": [
    {
     "data": {
      "text/html": [
       "<div>\n",
       "<style scoped>\n",
       "    .dataframe tbody tr th:only-of-type {\n",
       "        vertical-align: middle;\n",
       "    }\n",
       "\n",
       "    .dataframe tbody tr th {\n",
       "        vertical-align: top;\n",
       "    }\n",
       "\n",
       "    .dataframe thead th {\n",
       "        text-align: right;\n",
       "    }\n",
       "</style>\n",
       "<table border=\"1\" class=\"dataframe\">\n",
       "  <thead>\n",
       "    <tr style=\"text-align: right;\">\n",
       "      <th></th>\n",
       "      <th>neighbourhood</th>\n",
       "      <th>num_listings</th>\n",
       "      <th>review_density</th>\n",
       "      <th>5_star_rating(%)</th>\n",
       "    </tr>\n",
       "  </thead>\n",
       "  <tbody>\n",
       "    <tr>\n",
       "      <th>0</th>\n",
       "      <td>78704</td>\n",
       "      <td>1552</td>\n",
       "      <td>66.13</td>\n",
       "      <td>27.84</td>\n",
       "    </tr>\n",
       "    <tr>\n",
       "      <th>1</th>\n",
       "      <td>78702</td>\n",
       "      <td>1323</td>\n",
       "      <td>88.37</td>\n",
       "      <td>24.49</td>\n",
       "    </tr>\n",
       "  </tbody>\n",
       "</table>\n",
       "</div>"
      ],
      "text/plain": [
       "   neighbourhood  num_listings  review_density  5_star_rating(%)\n",
       "0          78704          1552           66.13             27.84\n",
       "1          78702          1323           88.37             24.49"
      ]
     },
     "execution_count": 244,
     "metadata": {},
     "output_type": "execute_result"
    }
   ],
   "source": [
    "# get the combinations that have all three properties at best \n",
    "neighbourhood_intersection_df = gph.get_group_intersection_df(top_neighbourhood_listings, top_neighbourhood_review_density, top_neighbourhood_5_star_rating, ['neighbourhood'])\n",
    "neighbourhood_intersection_df"
   ]
  },
  {
   "cell_type": "markdown",
   "metadata": {},
   "source": [
    "<h3 style='font-weight: 500; color: #52ff5b'> Results </h3>\n",
    "\n",
    "- Neighbourhood 78704 has most listings followed by 78702\n",
    "\n",
    "- 78702 has significantly better number of reviews per listing than others which means more public is active there followed by 78704 and 78721\n",
    "\n",
    "- Both 78702 and 78704 have a bit lower percentage of 5 star ratings among the top five. So, it can be better to list a house aiming a 5 star in any these areas"
   ]
  },
  {
   "cell_type": "markdown",
   "metadata": {},
   "source": [
    "### 2. Analysis by Property Type"
   ]
  },
  {
   "cell_type": "code",
   "execution_count": 245,
   "metadata": {},
   "outputs": [],
   "source": [
    "# group data by property_type\n",
    "prop_type_group_df = gph.get_grouped_df(df, 'property_type')"
   ]
  },
  {
   "cell_type": "code",
   "execution_count": 246,
   "metadata": {},
   "outputs": [],
   "source": [
    "# top 10 property types by number of listings\n",
    "prop_type_listings_sorted = gph.sort_group_df(prop_type_group_df, 'num_listings')\n",
    "top_prop_type_listings = prop_type_listings_sorted.iloc[:10, :2]"
   ]
  },
  {
   "cell_type": "code",
   "execution_count": 247,
   "metadata": {},
   "outputs": [
    {
     "data": {
      "image/png": "[encoded data removed]",
      "text/plain": [
       "<Figure size 1100x300 with 1 Axes>"
      ]
     },
     "metadata": {},
     "output_type": "display_data"
    }
   ],
   "source": [
    "plth.plot_bar_graph('property_type', 'num_listings', data=prop_type_listings_sorted, decimal_count=0, x_size=11, y_size=3)"
   ]
  },
  {
   "cell_type": "code",
   "execution_count": 248,
   "metadata": {},
   "outputs": [
    {
     "name": "stdout",
     "output_type": "stream",
     "text": [
      "avg_of_avg_ratings: 4.8265789473684215, avg_num_listings: 252.6315789473684, avg_total_reviews: 14512.71052631579\n"
     ]
    }
   ],
   "source": [
    "# create property type group filter\n",
    "\n",
    "prop_type_grp_filtered_df = gph.get_filtered_df(prop_type_group_df)"
   ]
  },
  {
   "cell_type": "code",
   "execution_count": 249,
   "metadata": {},
   "outputs": [],
   "source": [
    "# check the reach for each type of property\n",
    "\n",
    "prop_type_review_density_sorted = gph.sort_group_df(prop_type_grp_filtered_df, 'review_density')\n",
    "top_prop_type_review_density = prop_type_review_density_sorted.iloc[:5, [0, 1, -1]]"
   ]
  },
  {
   "cell_type": "code",
   "execution_count": 250,
   "metadata": {},
   "outputs": [
    {
     "data": {
      "image/png": "[encoded data removed]",
      "text/plain": [
       "<Figure size 600x150 with 1 Axes>"
      ]
     },
     "metadata": {},
     "output_type": "display_data"
    }
   ],
   "source": [
    "plth.plot_bar_graph('review_density', 'property_type', data=prop_type_review_density_sorted, decimal_count=2, x_size=6, y_size=1.5, type_ax='H', palette='plasma', alpha=0.8)"
   ]
  },
  {
   "cell_type": "code",
   "execution_count": 251,
   "metadata": {},
   "outputs": [],
   "source": [
    "# top property types by higest percentage of 5 star ratings and custom filter\n",
    "\n",
    "prop_type_5_star_rating_sorted = gph.sort_group_df(prop_type_grp_filtered_df, '5_star_rating(%)')\n",
    "top_prop_type_5_star_rating = prop_type_5_star_rating_sorted.iloc[:10, [0, 1, 3]]"
   ]
  },
  {
   "cell_type": "code",
   "execution_count": 252,
   "metadata": {},
   "outputs": [
    {
     "data": {
      "image/png": "[encoded data removed]",
      "text/plain": [
       "<Figure size 600x150 with 1 Axes>"
      ]
     },
     "metadata": {},
     "output_type": "display_data"
    }
   ],
   "source": [
    "plth.plot_bar_graph('5_star_rating(%)', 'property_type', data=prop_type_5_star_rating_sorted, decimal_count=2, x_size=6, y_size=1.5, type_ax='H', palette='viridis', alpha=0.8)"
   ]
  },
  {
   "cell_type": "code",
   "execution_count": 253,
   "metadata": {},
   "outputs": [
    {
     "data": {
      "text/html": [
       "<div>\n",
       "<style scoped>\n",
       "    .dataframe tbody tr th:only-of-type {\n",
       "        vertical-align: middle;\n",
       "    }\n",
       "\n",
       "    .dataframe tbody tr th {\n",
       "        vertical-align: top;\n",
       "    }\n",
       "\n",
       "    .dataframe thead th {\n",
       "        text-align: right;\n",
       "    }\n",
       "</style>\n",
       "<table border=\"1\" class=\"dataframe\">\n",
       "  <thead>\n",
       "    <tr style=\"text-align: right;\">\n",
       "      <th></th>\n",
       "      <th>property_type</th>\n",
       "      <th>num_listings</th>\n",
       "      <th>review_density</th>\n",
       "      <th>5_star_rating(%)</th>\n",
       "    </tr>\n",
       "  </thead>\n",
       "  <tbody>\n",
       "    <tr>\n",
       "      <th>0</th>\n",
       "      <td>Home</td>\n",
       "      <td>4853</td>\n",
       "      <td>46.07</td>\n",
       "      <td>31.86</td>\n",
       "    </tr>\n",
       "    <tr>\n",
       "      <th>1</th>\n",
       "      <td>Guesthouse</td>\n",
       "      <td>617</td>\n",
       "      <td>123.36</td>\n",
       "      <td>25.77</td>\n",
       "    </tr>\n",
       "    <tr>\n",
       "      <th>2</th>\n",
       "      <td>Guest suite</td>\n",
       "      <td>289</td>\n",
       "      <td>110.37</td>\n",
       "      <td>19.38</td>\n",
       "    </tr>\n",
       "  </tbody>\n",
       "</table>\n",
       "</div>"
      ],
      "text/plain": [
       "  property_type  num_listings  review_density  5_star_rating(%)\n",
       "0          Home          4853           46.07             31.86\n",
       "1    Guesthouse           617          123.36             25.77\n",
       "2   Guest suite           289          110.37             19.38"
      ]
     },
     "execution_count": 253,
     "metadata": {},
     "output_type": "execute_result"
    }
   ],
   "source": [
    "# get the combinations that have all three properties at best \n",
    "property_type_intersection_df = gph.get_group_intersection_df(top_prop_type_listings, top_prop_type_review_density, top_prop_type_5_star_rating, ['property_type'])\n",
    "property_type_intersection_df"
   ]
  },
  {
   "cell_type": "markdown",
   "metadata": {},
   "source": [
    "<h3 style='font-weight: 500; color: #52ff5b'> Results </h3>\n",
    "\n",
    "- There are way more 'Homes' listed than any other types\n",
    "\n",
    "- 'Guesthouses' and 'Guestsuites' may be lesser in numbers compared to 'Homes' but have got remarkably higher review density\n",
    "\n",
    "- Again, listing a 'Guesthouse' or a 'Guestsuite' with facilites aiming a 5 star, gives better opportunity as the competition is a bit less"
   ]
  },
  {
   "cell_type": "markdown",
   "metadata": {},
   "source": [
    "### 3. Analysis by Room Type"
   ]
  },
  {
   "cell_type": "code",
   "execution_count": 254,
   "metadata": {},
   "outputs": [],
   "source": [
    "# group data by room_type\n",
    "room_type_group_df = gph.get_grouped_df(df, 'room_type')"
   ]
  },
  {
   "cell_type": "code",
   "execution_count": 255,
   "metadata": {},
   "outputs": [],
   "source": [
    "# top 10 room types by number of listings\n",
    "\n",
    "room_type_listings_sorted = gph.sort_group_df(room_type_group_df, 'num_listings')\n",
    "top_room_type_listings = room_type_listings_sorted.iloc[:10, :2]"
   ]
  },
  {
   "cell_type": "code",
   "execution_count": 256,
   "metadata": {},
   "outputs": [
    {
     "data": {
      "image/png": "[encoded data removed]",
      "text/plain": [
       "<Figure size 1000x150 with 1 Axes>"
      ]
     },
     "metadata": {},
     "output_type": "display_data"
    }
   ],
   "source": [
    "plth.plot_bar_graph('num_listings', 'room_type', data=room_type_listings_sorted, decimal_count=0, x_size=10, y_size=1.5, type_ax='H')"
   ]
  },
  {
   "cell_type": "code",
   "execution_count": 257,
   "metadata": {},
   "outputs": [],
   "source": [
    "# check the need for each type of room\n",
    "\n",
    "room_type_review_density_sorted = gph.sort_group_df(room_type_group_df, 'review_density')\n",
    "top_room_type_review_density = room_type_review_density_sorted.iloc[:5, [0, 1, -1]]   # only one room type has been qualified"
   ]
  },
  {
   "cell_type": "code",
   "execution_count": 258,
   "metadata": {},
   "outputs": [
    {
     "data": {
      "image/png": "[encoded data removed]",
      "text/plain": [
       "<Figure size 600x150 with 1 Axes>"
      ]
     },
     "metadata": {},
     "output_type": "display_data"
    }
   ],
   "source": [
    "plth.plot_bar_graph('review_density', 'room_type', data=room_type_listings_sorted, decimal_count=2, x_size=6, y_size=1.5, type_ax='H', palette='plasma', alpha=0.8)"
   ]
  },
  {
   "cell_type": "code",
   "execution_count": 259,
   "metadata": {},
   "outputs": [],
   "source": [
    "# room types by higest percentage of 5 star ratings and custom filter\n",
    "\n",
    "room_type_5_star_rating_sorted = gph.sort_group_df(room_type_group_df, '5_star_rating(%)')\n",
    "top_room_type_5_star_rating = room_type_5_star_rating_sorted.iloc[:10, [0, 1, 3]]  "
   ]
  },
  {
   "cell_type": "code",
   "execution_count": 260,
   "metadata": {},
   "outputs": [
    {
     "data": {
      "image/png": "[encoded data removed]",
      "text/plain": [
       "<Figure size 600x150 with 1 Axes>"
      ]
     },
     "metadata": {},
     "output_type": "display_data"
    }
   ],
   "source": [
    "plth.plot_bar_graph('5_star_rating(%)', 'room_type', data=room_type_listings_sorted, decimal_count=2, x_size=6, y_size=1.5, type_ax='H', palette='viridis', alpha=0.8)"
   ]
  },
  {
   "cell_type": "code",
   "execution_count": 261,
   "metadata": {},
   "outputs": [
    {
     "data": {
      "text/html": [
       "<div>\n",
       "<style scoped>\n",
       "    .dataframe tbody tr th:only-of-type {\n",
       "        vertical-align: middle;\n",
       "    }\n",
       "\n",
       "    .dataframe tbody tr th {\n",
       "        vertical-align: top;\n",
       "    }\n",
       "\n",
       "    .dataframe thead th {\n",
       "        text-align: right;\n",
       "    }\n",
       "</style>\n",
       "<table border=\"1\" class=\"dataframe\">\n",
       "  <thead>\n",
       "    <tr style=\"text-align: right;\">\n",
       "      <th></th>\n",
       "      <th>room_type</th>\n",
       "      <th>num_listings</th>\n",
       "      <th>review_density</th>\n",
       "      <th>5_star_rating(%)</th>\n",
       "    </tr>\n",
       "  </thead>\n",
       "  <tbody>\n",
       "    <tr>\n",
       "      <th>0</th>\n",
       "      <td>Entire home/apt</td>\n",
       "      <td>8283</td>\n",
       "      <td>60.21</td>\n",
       "      <td>26.01</td>\n",
       "    </tr>\n",
       "    <tr>\n",
       "      <th>1</th>\n",
       "      <td>Private room</td>\n",
       "      <td>1250</td>\n",
       "      <td>40.83</td>\n",
       "      <td>34.24</td>\n",
       "    </tr>\n",
       "    <tr>\n",
       "      <th>2</th>\n",
       "      <td>Shared room</td>\n",
       "      <td>67</td>\n",
       "      <td>25.88</td>\n",
       "      <td>23.88</td>\n",
       "    </tr>\n",
       "  </tbody>\n",
       "</table>\n",
       "</div>"
      ],
      "text/plain": [
       "         room_type  num_listings  review_density  5_star_rating(%)\n",
       "0  Entire home/apt          8283           60.21             26.01\n",
       "1     Private room          1250           40.83             34.24\n",
       "2      Shared room            67           25.88             23.88"
      ]
     },
     "execution_count": 261,
     "metadata": {},
     "output_type": "execute_result"
    }
   ],
   "source": [
    "# get the combinations that have all three properties at best \n",
    "room_type_intersection_df = gph.get_group_intersection_df(top_room_type_listings, top_room_type_review_density, top_room_type_5_star_rating, ['room_type'])\n",
    "room_type_intersection_df"
   ]
  },
  {
   "cell_type": "markdown",
   "metadata": {},
   "source": [
    "<h3 style='font-weight: 500; color: #52ff5b'> Results </h3>\n",
    "\n",
    "- Properties listed with access to Entire Homes/Apartments are exceptionally higher compared to Private and Shared Rooms \n",
    "\n",
    "- However, listing properties with a Private room can be a good idea. As the review count per listing is moderate, also a good percentage of 5 star ratings, indicating a slightly lower competition and better oppotunity than listing Entire Homes"
   ]
  },
  {
   "cell_type": "markdown",
   "metadata": {},
   "source": [
    "### 4. Analysis by number of bedrooms, beds, and bathooms"
   ]
  },
  {
   "cell_type": "code",
   "execution_count": 262,
   "metadata": {},
   "outputs": [],
   "source": [
    "# group data by bedrooms, beds and bathrooms\n",
    "bed_bath_group_df = gph.get_grouped_df(df, ['bedrooms', 'beds', 'bathrooms'])"
   ]
  },
  {
   "cell_type": "code",
   "execution_count": 263,
   "metadata": {},
   "outputs": [
    {
     "data": {
      "text/plain": [
       "399"
      ]
     },
     "execution_count": 263,
     "metadata": {},
     "output_type": "execute_result"
    }
   ],
   "source": [
    "len(bed_bath_group_df) # 399 different combinations of bedrooms, beds, and bathrooms to analyse from"
   ]
  },
  {
   "cell_type": "code",
   "execution_count": 264,
   "metadata": {},
   "outputs": [
    {
     "data": {
      "text/html": [
       "<div>\n",
       "<style scoped>\n",
       "    .dataframe tbody tr th:only-of-type {\n",
       "        vertical-align: middle;\n",
       "    }\n",
       "\n",
       "    .dataframe tbody tr th {\n",
       "        vertical-align: top;\n",
       "    }\n",
       "\n",
       "    .dataframe thead th {\n",
       "        text-align: right;\n",
       "    }\n",
       "</style>\n",
       "<table border=\"1\" class=\"dataframe\">\n",
       "  <thead>\n",
       "    <tr style=\"text-align: right;\">\n",
       "      <th></th>\n",
       "      <th>bedrooms</th>\n",
       "      <th>beds</th>\n",
       "      <th>bathrooms</th>\n",
       "      <th>num_listings</th>\n",
       "    </tr>\n",
       "  </thead>\n",
       "  <tbody>\n",
       "    <tr>\n",
       "      <th>0</th>\n",
       "      <td>1.0</td>\n",
       "      <td>1</td>\n",
       "      <td>1.0</td>\n",
       "      <td>2362</td>\n",
       "    </tr>\n",
       "    <tr>\n",
       "      <th>1</th>\n",
       "      <td>1.0</td>\n",
       "      <td>2</td>\n",
       "      <td>1.0</td>\n",
       "      <td>853</td>\n",
       "    </tr>\n",
       "    <tr>\n",
       "      <th>2</th>\n",
       "      <td>2.0</td>\n",
       "      <td>2</td>\n",
       "      <td>1.0</td>\n",
       "      <td>606</td>\n",
       "    </tr>\n",
       "    <tr>\n",
       "      <th>3</th>\n",
       "      <td>2.0</td>\n",
       "      <td>2</td>\n",
       "      <td>2.0</td>\n",
       "      <td>485</td>\n",
       "    </tr>\n",
       "    <tr>\n",
       "      <th>4</th>\n",
       "      <td>3.0</td>\n",
       "      <td>3</td>\n",
       "      <td>2.0</td>\n",
       "      <td>452</td>\n",
       "    </tr>\n",
       "    <tr>\n",
       "      <th>5</th>\n",
       "      <td>0.5</td>\n",
       "      <td>1</td>\n",
       "      <td>1.0</td>\n",
       "      <td>340</td>\n",
       "    </tr>\n",
       "    <tr>\n",
       "      <th>6</th>\n",
       "      <td>2.0</td>\n",
       "      <td>3</td>\n",
       "      <td>2.0</td>\n",
       "      <td>277</td>\n",
       "    </tr>\n",
       "    <tr>\n",
       "      <th>7</th>\n",
       "      <td>2.0</td>\n",
       "      <td>3</td>\n",
       "      <td>1.0</td>\n",
       "      <td>270</td>\n",
       "    </tr>\n",
       "    <tr>\n",
       "      <th>8</th>\n",
       "      <td>3.0</td>\n",
       "      <td>4</td>\n",
       "      <td>2.0</td>\n",
       "      <td>247</td>\n",
       "    </tr>\n",
       "    <tr>\n",
       "      <th>9</th>\n",
       "      <td>1.0</td>\n",
       "      <td>1</td>\n",
       "      <td>1.5</td>\n",
       "      <td>218</td>\n",
       "    </tr>\n",
       "  </tbody>\n",
       "</table>\n",
       "</div>"
      ],
      "text/plain": [
       "   bedrooms  beds  bathrooms  num_listings\n",
       "0       1.0     1        1.0          2362\n",
       "1       1.0     2        1.0           853\n",
       "2       2.0     2        1.0           606\n",
       "3       2.0     2        2.0           485\n",
       "4       3.0     3        2.0           452\n",
       "5       0.5     1        1.0           340\n",
       "6       2.0     3        2.0           277\n",
       "7       2.0     3        1.0           270\n",
       "8       3.0     4        2.0           247\n",
       "9       1.0     1        1.5           218"
      ]
     },
     "execution_count": 264,
     "metadata": {},
     "output_type": "execute_result"
    }
   ],
   "source": [
    "# top 10 bed and bath combinations by number of listings\n",
    "\n",
    "bed_bath_listings_sorted = gph.sort_group_df(bed_bath_group_df, 'num_listings')\n",
    "top_bed_bath_listings = bed_bath_listings_sorted.iloc[:10, :4]\n",
    "top_bed_bath_listings"
   ]
  },
  {
   "cell_type": "code",
   "execution_count": 265,
   "metadata": {},
   "outputs": [
    {
     "name": "stdout",
     "output_type": "stream",
     "text": [
      "avg_of_avg_ratings: 4.846992481203007, avg_num_listings: 24.06015037593985, avg_total_reviews: 1382.1629072681703\n"
     ]
    }
   ],
   "source": [
    "# get filetered df for the bed and bath combination df\n",
    "\n",
    "bed_bath_grp_filtered_df = gph.get_filtered_df(bed_bath_group_df)"
   ]
  },
  {
   "cell_type": "code",
   "execution_count": 266,
   "metadata": {},
   "outputs": [
    {
     "data": {
      "text/html": [
       "<div>\n",
       "<style scoped>\n",
       "    .dataframe tbody tr th:only-of-type {\n",
       "        vertical-align: middle;\n",
       "    }\n",
       "\n",
       "    .dataframe tbody tr th {\n",
       "        vertical-align: top;\n",
       "    }\n",
       "\n",
       "    .dataframe thead th {\n",
       "        text-align: right;\n",
       "    }\n",
       "</style>\n",
       "<table border=\"1\" class=\"dataframe\">\n",
       "  <thead>\n",
       "    <tr style=\"text-align: right;\">\n",
       "      <th></th>\n",
       "      <th>bedrooms</th>\n",
       "      <th>beds</th>\n",
       "      <th>bathrooms</th>\n",
       "      <th>num_listings</th>\n",
       "      <th>review_density</th>\n",
       "    </tr>\n",
       "  </thead>\n",
       "  <tbody>\n",
       "    <tr>\n",
       "      <th>0</th>\n",
       "      <td>3.0</td>\n",
       "      <td>3</td>\n",
       "      <td>1.0</td>\n",
       "      <td>72</td>\n",
       "      <td>69.56</td>\n",
       "    </tr>\n",
       "    <tr>\n",
       "      <th>1</th>\n",
       "      <td>1.0</td>\n",
       "      <td>2</td>\n",
       "      <td>1.5</td>\n",
       "      <td>26</td>\n",
       "      <td>66.50</td>\n",
       "    </tr>\n",
       "    <tr>\n",
       "      <th>2</th>\n",
       "      <td>3.0</td>\n",
       "      <td>5</td>\n",
       "      <td>2.5</td>\n",
       "      <td>53</td>\n",
       "      <td>59.70</td>\n",
       "    </tr>\n",
       "    <tr>\n",
       "      <th>3</th>\n",
       "      <td>3.0</td>\n",
       "      <td>6</td>\n",
       "      <td>2.5</td>\n",
       "      <td>27</td>\n",
       "      <td>57.63</td>\n",
       "    </tr>\n",
       "    <tr>\n",
       "      <th>4</th>\n",
       "      <td>2.0</td>\n",
       "      <td>2</td>\n",
       "      <td>1.0</td>\n",
       "      <td>606</td>\n",
       "      <td>55.83</td>\n",
       "    </tr>\n",
       "    <tr>\n",
       "      <th>5</th>\n",
       "      <td>2.0</td>\n",
       "      <td>1</td>\n",
       "      <td>1.0</td>\n",
       "      <td>55</td>\n",
       "      <td>54.47</td>\n",
       "    </tr>\n",
       "    <tr>\n",
       "      <th>6</th>\n",
       "      <td>1.0</td>\n",
       "      <td>1</td>\n",
       "      <td>1.5</td>\n",
       "      <td>218</td>\n",
       "      <td>45.90</td>\n",
       "    </tr>\n",
       "    <tr>\n",
       "      <th>7</th>\n",
       "      <td>4.0</td>\n",
       "      <td>5</td>\n",
       "      <td>3.0</td>\n",
       "      <td>54</td>\n",
       "      <td>44.17</td>\n",
       "    </tr>\n",
       "    <tr>\n",
       "      <th>8</th>\n",
       "      <td>2.0</td>\n",
       "      <td>2</td>\n",
       "      <td>2.0</td>\n",
       "      <td>485</td>\n",
       "      <td>41.92</td>\n",
       "    </tr>\n",
       "    <tr>\n",
       "      <th>9</th>\n",
       "      <td>3.0</td>\n",
       "      <td>4</td>\n",
       "      <td>2.0</td>\n",
       "      <td>247</td>\n",
       "      <td>41.23</td>\n",
       "    </tr>\n",
       "  </tbody>\n",
       "</table>\n",
       "</div>"
      ],
      "text/plain": [
       "   bedrooms  beds  bathrooms  num_listings  review_density\n",
       "0       3.0     3        1.0            72           69.56\n",
       "1       1.0     2        1.5            26           66.50\n",
       "2       3.0     5        2.5            53           59.70\n",
       "3       3.0     6        2.5            27           57.63\n",
       "4       2.0     2        1.0           606           55.83\n",
       "5       2.0     1        1.0            55           54.47\n",
       "6       1.0     1        1.5           218           45.90\n",
       "7       4.0     5        3.0            54           44.17\n",
       "8       2.0     2        2.0           485           41.92\n",
       "9       3.0     4        2.0           247           41.23"
      ]
     },
     "execution_count": 266,
     "metadata": {},
     "output_type": "execute_result"
    }
   ],
   "source": [
    "# feedback density for each type of combinations\n",
    "\n",
    "bed_bath_review_density_sorted = gph.sort_group_df(bed_bath_grp_filtered_df, 'review_density')\n",
    "top_bed_bath_review_density = bed_bath_review_density_sorted.iloc[:10, [0, 1, 2, 3, -1]]\n",
    "top_bed_bath_review_density"
   ]
  },
  {
   "cell_type": "code",
   "execution_count": 267,
   "metadata": {},
   "outputs": [
    {
     "data": {
      "text/html": [
       "<div>\n",
       "<style scoped>\n",
       "    .dataframe tbody tr th:only-of-type {\n",
       "        vertical-align: middle;\n",
       "    }\n",
       "\n",
       "    .dataframe tbody tr th {\n",
       "        vertical-align: top;\n",
       "    }\n",
       "\n",
       "    .dataframe thead th {\n",
       "        text-align: right;\n",
       "    }\n",
       "</style>\n",
       "<table border=\"1\" class=\"dataframe\">\n",
       "  <thead>\n",
       "    <tr style=\"text-align: right;\">\n",
       "      <th></th>\n",
       "      <th>bedrooms</th>\n",
       "      <th>beds</th>\n",
       "      <th>bathrooms</th>\n",
       "      <th>num_listings</th>\n",
       "      <th>5_star_rating(%)</th>\n",
       "    </tr>\n",
       "  </thead>\n",
       "  <tbody>\n",
       "    <tr>\n",
       "      <th>0</th>\n",
       "      <td>4.0</td>\n",
       "      <td>4</td>\n",
       "      <td>2.5</td>\n",
       "      <td>56</td>\n",
       "      <td>42.86</td>\n",
       "    </tr>\n",
       "    <tr>\n",
       "      <th>1</th>\n",
       "      <td>2.0</td>\n",
       "      <td>2</td>\n",
       "      <td>2.5</td>\n",
       "      <td>137</td>\n",
       "      <td>41.61</td>\n",
       "    </tr>\n",
       "    <tr>\n",
       "      <th>2</th>\n",
       "      <td>1.0</td>\n",
       "      <td>1</td>\n",
       "      <td>1.5</td>\n",
       "      <td>218</td>\n",
       "      <td>38.99</td>\n",
       "    </tr>\n",
       "    <tr>\n",
       "      <th>3</th>\n",
       "      <td>4.0</td>\n",
       "      <td>4</td>\n",
       "      <td>3.0</td>\n",
       "      <td>70</td>\n",
       "      <td>38.57</td>\n",
       "    </tr>\n",
       "    <tr>\n",
       "      <th>4</th>\n",
       "      <td>3.0</td>\n",
       "      <td>4</td>\n",
       "      <td>2.5</td>\n",
       "      <td>112</td>\n",
       "      <td>35.71</td>\n",
       "    </tr>\n",
       "    <tr>\n",
       "      <th>5</th>\n",
       "      <td>3.0</td>\n",
       "      <td>3</td>\n",
       "      <td>2.0</td>\n",
       "      <td>452</td>\n",
       "      <td>33.63</td>\n",
       "    </tr>\n",
       "    <tr>\n",
       "      <th>6</th>\n",
       "      <td>3.0</td>\n",
       "      <td>3</td>\n",
       "      <td>2.5</td>\n",
       "      <td>215</td>\n",
       "      <td>33.02</td>\n",
       "    </tr>\n",
       "    <tr>\n",
       "      <th>7</th>\n",
       "      <td>2.0</td>\n",
       "      <td>2</td>\n",
       "      <td>2.0</td>\n",
       "      <td>485</td>\n",
       "      <td>32.58</td>\n",
       "    </tr>\n",
       "    <tr>\n",
       "      <th>8</th>\n",
       "      <td>1.0</td>\n",
       "      <td>2</td>\n",
       "      <td>1.5</td>\n",
       "      <td>26</td>\n",
       "      <td>30.77</td>\n",
       "    </tr>\n",
       "    <tr>\n",
       "      <th>9</th>\n",
       "      <td>3.0</td>\n",
       "      <td>4</td>\n",
       "      <td>2.0</td>\n",
       "      <td>247</td>\n",
       "      <td>29.15</td>\n",
       "    </tr>\n",
       "  </tbody>\n",
       "</table>\n",
       "</div>"
      ],
      "text/plain": [
       "   bedrooms  beds  bathrooms  num_listings  5_star_rating(%)\n",
       "0       4.0     4        2.5            56             42.86\n",
       "1       2.0     2        2.5           137             41.61\n",
       "2       1.0     1        1.5           218             38.99\n",
       "3       4.0     4        3.0            70             38.57\n",
       "4       3.0     4        2.5           112             35.71\n",
       "5       3.0     3        2.0           452             33.63\n",
       "6       3.0     3        2.5           215             33.02\n",
       "7       2.0     2        2.0           485             32.58\n",
       "8       1.0     2        1.5            26             30.77\n",
       "9       3.0     4        2.0           247             29.15"
      ]
     },
     "execution_count": 267,
     "metadata": {},
     "output_type": "execute_result"
    }
   ],
   "source": [
    "# combination with most 5 star ratings percentage\n",
    "\n",
    "bed_bath_5_star_rating_sorted = gph.sort_group_df(bed_bath_grp_filtered_df, '5_star_rating(%)')\n",
    "top_bed_bath_5_star_rating = bed_bath_5_star_rating_sorted.iloc[:10, [0, 1, 2, 3, 5]] \n",
    "top_bed_bath_5_star_rating "
   ]
  },
  {
   "cell_type": "code",
   "execution_count": 268,
   "metadata": {},
   "outputs": [
    {
     "data": {
      "text/html": [
       "<div>\n",
       "<style scoped>\n",
       "    .dataframe tbody tr th:only-of-type {\n",
       "        vertical-align: middle;\n",
       "    }\n",
       "\n",
       "    .dataframe tbody tr th {\n",
       "        vertical-align: top;\n",
       "    }\n",
       "\n",
       "    .dataframe thead th {\n",
       "        text-align: right;\n",
       "    }\n",
       "</style>\n",
       "<table border=\"1\" class=\"dataframe\">\n",
       "  <thead>\n",
       "    <tr style=\"text-align: right;\">\n",
       "      <th></th>\n",
       "      <th>bedrooms</th>\n",
       "      <th>beds</th>\n",
       "      <th>bathrooms</th>\n",
       "      <th>num_listings</th>\n",
       "      <th>review_density</th>\n",
       "      <th>5_star_rating(%)</th>\n",
       "    </tr>\n",
       "  </thead>\n",
       "  <tbody>\n",
       "    <tr>\n",
       "      <th>0</th>\n",
       "      <td>2.0</td>\n",
       "      <td>2</td>\n",
       "      <td>2.0</td>\n",
       "      <td>485</td>\n",
       "      <td>41.92</td>\n",
       "      <td>32.58</td>\n",
       "    </tr>\n",
       "    <tr>\n",
       "      <th>1</th>\n",
       "      <td>3.0</td>\n",
       "      <td>4</td>\n",
       "      <td>2.0</td>\n",
       "      <td>247</td>\n",
       "      <td>41.23</td>\n",
       "      <td>29.15</td>\n",
       "    </tr>\n",
       "    <tr>\n",
       "      <th>2</th>\n",
       "      <td>1.0</td>\n",
       "      <td>1</td>\n",
       "      <td>1.5</td>\n",
       "      <td>218</td>\n",
       "      <td>45.90</td>\n",
       "      <td>38.99</td>\n",
       "    </tr>\n",
       "  </tbody>\n",
       "</table>\n",
       "</div>"
      ],
      "text/plain": [
       "   bedrooms  beds  bathrooms  num_listings  review_density  5_star_rating(%)\n",
       "0       2.0     2        2.0           485           41.92             32.58\n",
       "1       3.0     4        2.0           247           41.23             29.15\n",
       "2       1.0     1        1.5           218           45.90             38.99"
      ]
     },
     "execution_count": 268,
     "metadata": {},
     "output_type": "execute_result"
    }
   ],
   "source": [
    "# get the combinations that have all three properties at best \n",
    "bed_bath_intersection_df = gph.get_group_intersection_df(top_bed_bath_listings, top_bed_bath_review_density, top_bed_bath_5_star_rating, ['bedrooms', 'beds', 'bathrooms'])\n",
    "bed_bath_intersection_df"
   ]
  },
  {
   "cell_type": "markdown",
   "metadata": {},
   "source": [
    "<h3 style='font-weight: 500; color: #52ff5b'> Results </h3>\n",
    "\n",
    "- Most listings are present with a combination of 1 bedroom, having 1 bed, and 1 bathroom\n",
    "\n",
    "- The combination that can be used which have good propoptions of number of listings, review density and 5 star ratings in the format (bedrooms, beds, bathrooms) are (2, 2, 2), (3, 4, 2), (1, 1, 1.5)\n",
    "\n",
    "- Another combination (3, 3, 1) which has not many listings but a review density of around 70 can also be tried"
   ]
  },
  {
   "cell_type": "markdown",
   "metadata": {},
   "source": [
    "### 5. Analysis by Daily Price"
   ]
  },
  {
   "cell_type": "code",
   "execution_count": 269,
   "metadata": {},
   "outputs": [
    {
     "name": "stdout",
     "output_type": "stream",
     "text": [
      "1286\n"
     ]
    }
   ],
   "source": [
    "# identify the outliers\n",
    "\n",
    "from scipy.stats import zscore\n",
    "\n",
    "daily_price_outliers = df[abs(zscore(df['daily_price'])) > 3]['daily_price'].tolist()\n",
    "print(min(daily_price_outliers))    # any price equal or more than 1286 is an outlier"
   ]
  },
  {
   "cell_type": "code",
   "execution_count": 270,
   "metadata": {},
   "outputs": [
    {
     "name": "stdout",
     "output_type": "stream",
     "text": [
      "Total outliers found: 121\n"
     ]
    }
   ],
   "source": [
    "print(f\"Total outliers found: {len(daily_price_outliers)}\")"
   ]
  },
  {
   "cell_type": "code",
   "execution_count": 271,
   "metadata": {},
   "outputs": [],
   "source": [
    "# get a df with no outliers to understand the price distribution\n",
    "\n",
    "price_df = df[abs(zscore(df['daily_price'])) <= 3]"
   ]
  },
  {
   "cell_type": "code",
   "execution_count": 272,
   "metadata": {},
   "outputs": [
    {
     "data": {
      "image/png": "[encoded data removed]",
      "text/plain": [
       "<Figure size 1000x300 with 1 Axes>"
      ]
     },
     "metadata": {},
     "output_type": "display_data"
    }
   ],
   "source": [
    "sns.set(rc={'figure.figsize': (10, 3)})\n",
    "\n",
    "# set the width of each bin equal to price gap you want\n",
    "price_gap = 90\n",
    "bins = int((price_df['daily_price'].max() - price_df['daily_price'].min()) / price_gap)\n",
    "\n",
    "hist = sns.histplot(x='daily_price', data=price_df, bins=bins, kde=True, color='green', alpha=0.5)"
   ]
  },
  {
   "cell_type": "code",
   "execution_count": 273,
   "metadata": {},
   "outputs": [
    {
     "data": {
      "text/html": [
       "<div>\n",
       "<style scoped>\n",
       "    .dataframe tbody tr th:only-of-type {\n",
       "        vertical-align: middle;\n",
       "    }\n",
       "\n",
       "    .dataframe tbody tr th {\n",
       "        vertical-align: top;\n",
       "    }\n",
       "\n",
       "    .dataframe thead th {\n",
       "        text-align: right;\n",
       "    }\n",
       "</style>\n",
       "<table border=\"1\" class=\"dataframe\">\n",
       "  <thead>\n",
       "    <tr style=\"text-align: right;\">\n",
       "      <th></th>\n",
       "      <th>daily_price</th>\n",
       "      <th>daily_price_bucket</th>\n",
       "    </tr>\n",
       "  </thead>\n",
       "  <tbody>\n",
       "    <tr>\n",
       "      <th>0</th>\n",
       "      <td>126</td>\n",
       "      <td>100-200</td>\n",
       "    </tr>\n",
       "    <tr>\n",
       "      <th>1</th>\n",
       "      <td>45</td>\n",
       "      <td>&lt; 50</td>\n",
       "    </tr>\n",
       "    <tr>\n",
       "      <th>2</th>\n",
       "      <td>57</td>\n",
       "      <td>50-100</td>\n",
       "    </tr>\n",
       "    <tr>\n",
       "      <th>3</th>\n",
       "      <td>159</td>\n",
       "      <td>100-200</td>\n",
       "    </tr>\n",
       "    <tr>\n",
       "      <th>4</th>\n",
       "      <td>48</td>\n",
       "      <td>&lt; 50</td>\n",
       "    </tr>\n",
       "  </tbody>\n",
       "</table>\n",
       "</div>"
      ],
      "text/plain": [
       "   daily_price daily_price_bucket\n",
       "0          126            100-200\n",
       "1           45               < 50\n",
       "2           57             50-100\n",
       "3          159            100-200\n",
       "4           48               < 50"
      ]
     },
     "execution_count": 273,
     "metadata": {},
     "output_type": "execute_result"
    }
   ],
   "source": [
    "# in the distribution we can see most of the prices lie between 10 to 300\n",
    "\n",
    "# create a bucket field for the field daily price\n",
    "\n",
    "conditions = [\n",
    "    (df['daily_price'] < 50),\n",
    "    (df['daily_price'] < 100),\n",
    "    (df['daily_price'] < 200),\n",
    "    (df['daily_price'] < 350),\n",
    "    (df['daily_price'] >= 350),\n",
    "]\n",
    "\n",
    "labels = ['< 50', '50-100', '100-200', '200-350', '> 350']\n",
    "\n",
    "df['daily_price_bucket'] = np.select(conditions, labels, default='Unknown')\n",
    "df.head()[['daily_price', 'daily_price_bucket']]  # see the categorized prices field"
   ]
  },
  {
   "cell_type": "code",
   "execution_count": 274,
   "metadata": {},
   "outputs": [],
   "source": [
    "# group the data by daily price bucket\n",
    "\n",
    "daily_price_group_df = gph.get_grouped_df(df, 'daily_price_bucket')"
   ]
  },
  {
   "cell_type": "code",
   "execution_count": 275,
   "metadata": {},
   "outputs": [],
   "source": [
    "# sort the group by most listings\n",
    "\n",
    "daily_price_listings_sorted = gph.sort_group_df(daily_price_group_df, 'num_listings')\n",
    "top_daily_price_listings = daily_price_listings_sorted.iloc[:, :2]"
   ]
  },
  {
   "cell_type": "code",
   "execution_count": 276,
   "metadata": {},
   "outputs": [
    {
     "data": {
      "image/png": "[encoded data removed]",
      "text/plain": [
       "<Figure size 800x250 with 1 Axes>"
      ]
     },
     "metadata": {},
     "output_type": "display_data"
    }
   ],
   "source": [
    "plth.plot_bar_graph('num_listings', 'daily_price_bucket', data=daily_price_listings_sorted, decimal_count=0, x_size=8, y_size=2.5, type_ax='H')"
   ]
  },
  {
   "cell_type": "code",
   "execution_count": 277,
   "metadata": {},
   "outputs": [],
   "source": [
    "# check the review density for each price bucket\n",
    "\n",
    "daily_price_review_density = gph.sort_group_df(daily_price_group_df, 'review_density').iloc[:, [0, 1, -1]]"
   ]
  },
  {
   "cell_type": "code",
   "execution_count": 278,
   "metadata": {},
   "outputs": [
    {
     "data": {
      "image/png": "[encoded data removed]",
      "text/plain": [
       "<Figure size 500x300 with 1 Axes>"
      ]
     },
     "metadata": {},
     "output_type": "display_data"
    }
   ],
   "source": [
    "plth.plot_bar_graph('daily_price_bucket', 'review_density', data=daily_price_review_density, decimal_count=2, x_size=5, y_size=3, palette='plasma', alpha=0.8)"
   ]
  },
  {
   "cell_type": "code",
   "execution_count": 279,
   "metadata": {},
   "outputs": [],
   "source": [
    "# check the 5 star ratings percentage for each price bucket\n",
    "\n",
    "daily_price_5_star_ratings = gph.sort_group_df(daily_price_group_df, '5_star_rating(%)').iloc[:, [0, 1, 3]]"
   ]
  },
  {
   "cell_type": "code",
   "execution_count": 280,
   "metadata": {},
   "outputs": [
    {
     "data": {
      "image/png": "[encoded data removed]",
      "text/plain": [
       "<Figure size 500x300 with 1 Axes>"
      ]
     },
     "metadata": {},
     "output_type": "display_data"
    }
   ],
   "source": [
    "plth.plot_bar_graph('daily_price_bucket', '5_star_rating(%)', data=daily_price_5_star_ratings, decimal_count=2, x_size=5, y_size=3, palette='viridis', alpha=0.8)"
   ]
  },
  {
   "cell_type": "markdown",
   "metadata": {},
   "source": [
    "<h3 style='font-weight: 500; color: #52ff5b'> Results </h3>\n",
    "\n",
    "- Most of the listings are in a price range of 100 to 200, which is approx 1.5 times to the second in the list\n",
    "\n",
    "- Listings with prices between 50 and 100 can be targeted as they are the second most in listings, but with the highest review density\n",
    "\n",
    "- Also the lower 5 star ratings percentage indicates a better opportunity"
   ]
  },
  {
   "cell_type": "markdown",
   "metadata": {},
   "source": [
    "### 6. Analysis by Minimum Nights to Stay"
   ]
  },
  {
   "cell_type": "code",
   "execution_count": 281,
   "metadata": {},
   "outputs": [
    {
     "name": "stdout",
     "output_type": "stream",
     "text": [
      "120\n"
     ]
    }
   ],
   "source": [
    "# identify the outliers\n",
    "\n",
    "min_nights_outliers = df[abs(zscore(df['minimum_nights'])) > 3]['minimum_nights'].tolist()\n",
    "print(min(min_nights_outliers))    # any price equal or more than 120 is an outlier"
   ]
  },
  {
   "cell_type": "code",
   "execution_count": 282,
   "metadata": {},
   "outputs": [
    {
     "name": "stdout",
     "output_type": "stream",
     "text": [
      "Total outliers found: 31\n"
     ]
    }
   ],
   "source": [
    "print(f\"Total outliers found: {len(min_nights_outliers)}\")"
   ]
  },
  {
   "cell_type": "code",
   "execution_count": 283,
   "metadata": {},
   "outputs": [],
   "source": [
    "# get a df with no outliers to understand the price distribution\n",
    "\n",
    "min_nights_df = df[abs(zscore(df['minimum_nights'])) <= 3]"
   ]
  },
  {
   "cell_type": "code",
   "execution_count": 284,
   "metadata": {},
   "outputs": [
    {
     "data": {
      "text/plain": [
       "(0.0, 50.0)"
      ]
     },
     "execution_count": 284,
     "metadata": {},
     "output_type": "execute_result"
    },
    {
     "data": {
      "image/png": "[encoded data removed]",
      "text/plain": [
       "<Figure size 850x250 with 1 Axes>"
      ]
     },
     "metadata": {},
     "output_type": "display_data"
    }
   ],
   "source": [
    "sns.set(rc={'figure.figsize': (8.5, 2.5)})\n",
    "\n",
    "# set the width of each bin equal to price gap you want\n",
    "min_nights_gap = 1\n",
    "bins = int((min_nights_df['minimum_nights'].max() - min_nights_df['minimum_nights'].min()) / min_nights_gap)\n",
    "\n",
    "hist = sns.histplot(x='minimum_nights', data=min_nights_df, bins=bins, kde=True, color='purple', alpha=0.5)\n",
    "plt.xlim(0, 50)"
   ]
  },
  {
   "cell_type": "code",
   "execution_count": 285,
   "metadata": {},
   "outputs": [],
   "source": [
    "# get the grouped data by minimum number of nights\n",
    "\n",
    "min_nights_group_df = gph.get_grouped_df(min_nights_df, 'minimum_nights')"
   ]
  },
  {
   "cell_type": "code",
   "execution_count": 286,
   "metadata": {},
   "outputs": [],
   "source": [
    "# top 10 minimum stay times by number of listings\n",
    "\n",
    "min_nights_listings_sorted = gph.sort_group_df(min_nights_group_df, 'num_listings')\n",
    "top_min_nights_listings = min_nights_listings_sorted.iloc[:10, :2]"
   ]
  },
  {
   "cell_type": "code",
   "execution_count": 287,
   "metadata": {},
   "outputs": [
    {
     "data": {
      "image/png": "[encoded data removed]",
      "text/plain": [
       "<Figure size 850x300 with 1 Axes>"
      ]
     },
     "metadata": {},
     "output_type": "display_data"
    }
   ],
   "source": [
    "plth.plot_bar_graph(x='minimum_nights', y='num_listings', data=top_min_nights_listings, decimal_count=0, x_size=8.5, y_size=3)"
   ]
  },
  {
   "cell_type": "code",
   "execution_count": 288,
   "metadata": {},
   "outputs": [
    {
     "name": "stdout",
     "output_type": "stream",
     "text": [
      "avg_of_avg_ratings: 4.75, avg_num_listings: 299.03125, avg_total_reviews: 17206.71875\n"
     ]
    }
   ],
   "source": [
    "# create minimum nights group filter\n",
    "\n",
    "min_nights_grp_filtered_df = gph.get_filtered_df(min_nights_group_df, ratings_threshold=4.75)"
   ]
  },
  {
   "cell_type": "code",
   "execution_count": 289,
   "metadata": {},
   "outputs": [],
   "source": [
    "# top 5 minimum stay times by highest review_density\n",
    "\n",
    "min_nights_review_density_sorted = gph.sort_group_df(min_nights_grp_filtered_df, 'review_density')\n",
    "top_min_nights_review_density = min_nights_review_density_sorted.iloc[:5, [0, 1, -1]]"
   ]
  },
  {
   "cell_type": "code",
   "execution_count": 290,
   "metadata": {},
   "outputs": [
    {
     "data": {
      "image/png": "[encoded data removed]",
      "text/plain": [
       "<Figure size 500x250 with 1 Axes>"
      ]
     },
     "metadata": {},
     "output_type": "display_data"
    }
   ],
   "source": [
    "plth.plot_bar_graph('minimum_nights', 'review_density', data=min_nights_review_density_sorted, decimal_count=2, x_size=5, y_size=2.5, palette='plasma', alpha=0.8)"
   ]
  },
  {
   "cell_type": "code",
   "execution_count": 291,
   "metadata": {},
   "outputs": [],
   "source": [
    "# stay times by higest percentage of 5 star ratings\n",
    "\n",
    "min_nights_5_star_rating_sorted = gph.sort_group_df(min_nights_grp_filtered_df, '5_star_rating(%)')\n",
    "top_min_nights_5_star_rating = min_nights_5_star_rating_sorted.iloc[:10, [0, 1, 3]]"
   ]
  },
  {
   "cell_type": "code",
   "execution_count": 292,
   "metadata": {},
   "outputs": [
    {
     "data": {
      "image/png": "[encoded data removed]",
      "text/plain": [
       "<Figure size 500x250 with 1 Axes>"
      ]
     },
     "metadata": {},
     "output_type": "display_data"
    }
   ],
   "source": [
    "plth.plot_bar_graph('minimum_nights', '5_star_rating(%)', data=min_nights_5_star_rating_sorted, decimal_count=2, x_size=5, y_size=2.5, palette='viridis', alpha=0.8)"
   ]
  },
  {
   "cell_type": "markdown",
   "metadata": {},
   "source": [
    "<h3 style='font-weight: 500; color: #52ff5b'> Results </h3>\n",
    "\n",
    "- Most of the listings require at least 1 or 2 nights stay followed by 3 and around a month\n",
    "\n",
    "- Houses with at least one night stay have got the best review density and significanlty lower 5 star rating percentage, which indicates that listing a house with best possible requirements can be great\n",
    "\n",
    "- On the other side, to be more opportunistic and to avoid high competition, listings with at least a month stay can also be preferred "
   ]
  },
  {
   "cell_type": "markdown",
   "metadata": {},
   "source": [
    "### 7. Analysis of Hosts"
   ]
  },
  {
   "cell_type": "code",
   "execution_count": 293,
   "metadata": {},
   "outputs": [],
   "source": [
    "# create a group df by host id and name\n",
    "\n",
    "host_group_df = gph.get_grouped_df(df, ['host_id', 'host_name'])"
   ]
  },
  {
   "cell_type": "code",
   "execution_count": 294,
   "metadata": {},
   "outputs": [
    {
     "data": {
      "text/html": [
       "<div>\n",
       "<style scoped>\n",
       "    .dataframe tbody tr th:only-of-type {\n",
       "        vertical-align: middle;\n",
       "    }\n",
       "\n",
       "    .dataframe tbody tr th {\n",
       "        vertical-align: top;\n",
       "    }\n",
       "\n",
       "    .dataframe thead th {\n",
       "        text-align: right;\n",
       "    }\n",
       "</style>\n",
       "<table border=\"1\" class=\"dataframe\">\n",
       "  <thead>\n",
       "    <tr style=\"text-align: right;\">\n",
       "      <th></th>\n",
       "      <th>host_id</th>\n",
       "      <th>host_name</th>\n",
       "      <th>num_listings</th>\n",
       "    </tr>\n",
       "  </thead>\n",
       "  <tbody>\n",
       "    <tr>\n",
       "      <th>0</th>\n",
       "      <td>274552333</td>\n",
       "      <td>Evonify</td>\n",
       "      <td>102</td>\n",
       "    </tr>\n",
       "    <tr>\n",
       "      <th>1</th>\n",
       "      <td>464404919</td>\n",
       "      <td>Vacasa Texas</td>\n",
       "      <td>83</td>\n",
       "    </tr>\n",
       "    <tr>\n",
       "      <th>2</th>\n",
       "      <td>35817561</td>\n",
       "      <td>Jen And Steven</td>\n",
       "      <td>69</td>\n",
       "    </tr>\n",
       "    <tr>\n",
       "      <th>3</th>\n",
       "      <td>8167447</td>\n",
       "      <td>Martin</td>\n",
       "      <td>66</td>\n",
       "    </tr>\n",
       "    <tr>\n",
       "      <th>4</th>\n",
       "      <td>118565935</td>\n",
       "      <td>Renters Club</td>\n",
       "      <td>56</td>\n",
       "    </tr>\n",
       "  </tbody>\n",
       "</table>\n",
       "</div>"
      ],
      "text/plain": [
       "     host_id       host_name  num_listings\n",
       "0  274552333         Evonify           102\n",
       "1  464404919    Vacasa Texas            83\n",
       "2   35817561  Jen And Steven            69\n",
       "3    8167447          Martin            66\n",
       "4  118565935    Renters Club            56"
      ]
     },
     "execution_count": 294,
     "metadata": {},
     "output_type": "execute_result"
    }
   ],
   "source": [
    "# top hosts by number of listings\n",
    "\n",
    "host_group_listings_sorted = gph.sort_group_df(host_group_df, 'num_listings')\n",
    "top_host_group_listings = host_group_listings_sorted.iloc[:5, :3]\n",
    "top_host_group_listings"
   ]
  },
  {
   "cell_type": "code",
   "execution_count": 295,
   "metadata": {},
   "outputs": [
    {
     "name": "stdout",
     "output_type": "stream",
     "text": [
      "avg_of_avg_ratings: 4.867111449348893, avg_num_listings: 10, avg_total_reviews: 500\n"
     ]
    }
   ],
   "source": [
    "# create a filtered df for hosts\n",
    "\n",
    "host_grp_filtered_df = gph.get_filtered_df(host_group_df, listings_threshold=10, total_reviews_threshold=500)"
   ]
  },
  {
   "cell_type": "code",
   "execution_count": 296,
   "metadata": {},
   "outputs": [
    {
     "data": {
      "text/html": [
       "<div>\n",
       "<style scoped>\n",
       "    .dataframe tbody tr th:only-of-type {\n",
       "        vertical-align: middle;\n",
       "    }\n",
       "\n",
       "    .dataframe tbody tr th {\n",
       "        vertical-align: top;\n",
       "    }\n",
       "\n",
       "    .dataframe thead th {\n",
       "        text-align: right;\n",
       "    }\n",
       "</style>\n",
       "<table border=\"1\" class=\"dataframe\">\n",
       "  <thead>\n",
       "    <tr style=\"text-align: right;\">\n",
       "      <th></th>\n",
       "      <th>host_id</th>\n",
       "      <th>host_name</th>\n",
       "      <th>num_listings</th>\n",
       "      <th>review_density</th>\n",
       "    </tr>\n",
       "  </thead>\n",
       "  <tbody>\n",
       "    <tr>\n",
       "      <th>0</th>\n",
       "      <td>2934425</td>\n",
       "      <td>Brett</td>\n",
       "      <td>12</td>\n",
       "      <td>267.17</td>\n",
       "    </tr>\n",
       "    <tr>\n",
       "      <th>1</th>\n",
       "      <td>814883</td>\n",
       "      <td>Kristen</td>\n",
       "      <td>12</td>\n",
       "      <td>95.83</td>\n",
       "    </tr>\n",
       "    <tr>\n",
       "      <th>2</th>\n",
       "      <td>499072196</td>\n",
       "      <td>Lisa</td>\n",
       "      <td>11</td>\n",
       "      <td>91.82</td>\n",
       "    </tr>\n",
       "  </tbody>\n",
       "</table>\n",
       "</div>"
      ],
      "text/plain": [
       "     host_id host_name  num_listings  review_density\n",
       "0    2934425     Brett            12          267.17\n",
       "1     814883   Kristen            12           95.83\n",
       "2  499072196      Lisa            11           91.82"
      ]
     },
     "execution_count": 296,
     "metadata": {},
     "output_type": "execute_result"
    }
   ],
   "source": [
    "# top 3 hosts whose listings have got the best review density\n",
    "\n",
    "host_group_review_density = gph.sort_group_df(host_grp_filtered_df, 'review_density')\n",
    "top_host_group_review_density = host_group_review_density.iloc[:3, [0, 1, 2, -1]]\n",
    "top_host_group_review_density"
   ]
  },
  {
   "cell_type": "code",
   "execution_count": 297,
   "metadata": {},
   "outputs": [
    {
     "data": {
      "text/html": [
       "<div>\n",
       "<style scoped>\n",
       "    .dataframe tbody tr th:only-of-type {\n",
       "        vertical-align: middle;\n",
       "    }\n",
       "\n",
       "    .dataframe tbody tr th {\n",
       "        vertical-align: top;\n",
       "    }\n",
       "\n",
       "    .dataframe thead th {\n",
       "        text-align: right;\n",
       "    }\n",
       "</style>\n",
       "<table border=\"1\" class=\"dataframe\">\n",
       "  <thead>\n",
       "    <tr style=\"text-align: right;\">\n",
       "      <th></th>\n",
       "      <th>host_id</th>\n",
       "      <th>host_name</th>\n",
       "      <th>num_listings</th>\n",
       "      <th>5_star_rating(%)</th>\n",
       "    </tr>\n",
       "  </thead>\n",
       "  <tbody>\n",
       "    <tr>\n",
       "      <th>0</th>\n",
       "      <td>256882822</td>\n",
       "      <td>Annette</td>\n",
       "      <td>14</td>\n",
       "      <td>50.00</td>\n",
       "    </tr>\n",
       "    <tr>\n",
       "      <th>1</th>\n",
       "      <td>30225950</td>\n",
       "      <td>Eastside Villas</td>\n",
       "      <td>20</td>\n",
       "      <td>40.00</td>\n",
       "    </tr>\n",
       "    <tr>\n",
       "      <th>2</th>\n",
       "      <td>814883</td>\n",
       "      <td>Kristen</td>\n",
       "      <td>12</td>\n",
       "      <td>33.33</td>\n",
       "    </tr>\n",
       "  </tbody>\n",
       "</table>\n",
       "</div>"
      ],
      "text/plain": [
       "     host_id        host_name  num_listings  5_star_rating(%)\n",
       "0  256882822          Annette            14             50.00\n",
       "1   30225950  Eastside Villas            20             40.00\n",
       "2     814883          Kristen            12             33.33"
      ]
     },
     "execution_count": 297,
     "metadata": {},
     "output_type": "execute_result"
    }
   ],
   "source": [
    "# top 3 hosts who have got the best 5 star ratings percentage\n",
    "\n",
    "host_group_5_star_rating = gph.sort_group_df(host_grp_filtered_df, '5_star_rating(%)')\n",
    "top_host_group_5_star_rating = host_group_5_star_rating.iloc[:3, [0, 1, 2, 4]]\n",
    "top_host_group_5_star_rating"
   ]
  },
  {
   "cell_type": "markdown",
   "metadata": {},
   "source": [
    "<h3 style='font-weight: 500; color: #52ff5b'> Results </h3>\n",
    "\n",
    "- Evonify with a host if 2934425 has listed most number of houses\n",
    "\n",
    "- You could contact any of all of the top 3 hosts in both sections (reviews and 5 star ratings) for quality purposes "
   ]
  },
  {
   "cell_type": "markdown",
   "metadata": {},
   "source": [
    "### Top 3 listings"
   ]
  },
  {
   "cell_type": "code",
   "execution_count": 298,
   "metadata": {},
   "outputs": [
    {
     "data": {
      "text/html": [
       "<div>\n",
       "<style scoped>\n",
       "    .dataframe tbody tr th:only-of-type {\n",
       "        vertical-align: middle;\n",
       "    }\n",
       "\n",
       "    .dataframe tbody tr th {\n",
       "        vertical-align: top;\n",
       "    }\n",
       "\n",
       "    .dataframe thead th {\n",
       "        text-align: right;\n",
       "    }\n",
       "</style>\n",
       "<table border=\"1\" class=\"dataframe\">\n",
       "  <thead>\n",
       "    <tr style=\"text-align: right;\">\n",
       "      <th></th>\n",
       "      <th>host_id</th>\n",
       "      <th>host_name</th>\n",
       "      <th>property_type</th>\n",
       "      <th>bedrooms</th>\n",
       "      <th>beds</th>\n",
       "      <th>bathrooms</th>\n",
       "      <th>ratings</th>\n",
       "      <th>neighbourhood</th>\n",
       "      <th>latitude</th>\n",
       "      <th>longitude</th>\n",
       "      <th>room_type</th>\n",
       "      <th>daily_price</th>\n",
       "      <th>minimum_nights</th>\n",
       "      <th>number_of_reviews</th>\n",
       "      <th>last_review</th>\n",
       "      <th>reviews_per_month</th>\n",
       "      <th>calculated_host_listings_count</th>\n",
       "      <th>availability_365</th>\n",
       "      <th>number_of_reviews_ltm</th>\n",
       "      <th>daily_price_bucket</th>\n",
       "    </tr>\n",
       "  </thead>\n",
       "  <tbody>\n",
       "    <tr>\n",
       "      <th>308</th>\n",
       "      <td>740347</td>\n",
       "      <td>Chris</td>\n",
       "      <td>Home</td>\n",
       "      <td>1.0</td>\n",
       "      <td>1</td>\n",
       "      <td>1.0</td>\n",
       "      <td>4.95</td>\n",
       "      <td>78704</td>\n",
       "      <td>30.24668</td>\n",
       "      <td>-97.75618</td>\n",
       "      <td>Entire home/apt</td>\n",
       "      <td>144</td>\n",
       "      <td>1</td>\n",
       "      <td>1141</td>\n",
       "      <td>2023-09-03</td>\n",
       "      <td>9.49</td>\n",
       "      <td>2</td>\n",
       "      <td>315</td>\n",
       "      <td>110</td>\n",
       "      <td>100-200</td>\n",
       "    </tr>\n",
       "    <tr>\n",
       "      <th>250</th>\n",
       "      <td>5152543</td>\n",
       "      <td>Marcella</td>\n",
       "      <td>Camper/RV</td>\n",
       "      <td>1.0</td>\n",
       "      <td>1</td>\n",
       "      <td>1.0</td>\n",
       "      <td>4.89</td>\n",
       "      <td>78723</td>\n",
       "      <td>30.29757</td>\n",
       "      <td>-97.68266</td>\n",
       "      <td>Entire home/apt</td>\n",
       "      <td>75</td>\n",
       "      <td>1</td>\n",
       "      <td>1140</td>\n",
       "      <td>2023-08-24</td>\n",
       "      <td>8.89</td>\n",
       "      <td>2</td>\n",
       "      <td>326</td>\n",
       "      <td>76</td>\n",
       "      <td>50-100</td>\n",
       "    </tr>\n",
       "    <tr>\n",
       "      <th>462</th>\n",
       "      <td>5152543</td>\n",
       "      <td>Marcella</td>\n",
       "      <td>Guesthouse</td>\n",
       "      <td>1.0</td>\n",
       "      <td>1</td>\n",
       "      <td>1.0</td>\n",
       "      <td>4.89</td>\n",
       "      <td>78723</td>\n",
       "      <td>30.29736</td>\n",
       "      <td>-97.68232</td>\n",
       "      <td>Entire home/apt</td>\n",
       "      <td>79</td>\n",
       "      <td>1</td>\n",
       "      <td>1026</td>\n",
       "      <td>2023-08-24</td>\n",
       "      <td>8.88</td>\n",
       "      <td>2</td>\n",
       "      <td>304</td>\n",
       "      <td>79</td>\n",
       "      <td>50-100</td>\n",
       "    </tr>\n",
       "  </tbody>\n",
       "</table>\n",
       "</div>"
      ],
      "text/plain": [
       "     host_id host_name property_type  bedrooms  beds  bathrooms  ratings  \\\n",
       "308   740347     Chris          Home       1.0     1        1.0     4.95   \n",
       "250  5152543  Marcella     Camper/RV       1.0     1        1.0     4.89   \n",
       "462  5152543  Marcella    Guesthouse       1.0     1        1.0     4.89   \n",
       "\n",
       "    neighbourhood  latitude  longitude        room_type  daily_price  \\\n",
       "308         78704  30.24668  -97.75618  Entire home/apt          144   \n",
       "250         78723  30.29757  -97.68266  Entire home/apt           75   \n",
       "462         78723  30.29736  -97.68232  Entire home/apt           79   \n",
       "\n",
       "     minimum_nights  number_of_reviews last_review  reviews_per_month  \\\n",
       "308               1               1141  2023-09-03               9.49   \n",
       "250               1               1140  2023-08-24               8.89   \n",
       "462               1               1026  2023-08-24               8.88   \n",
       "\n",
       "     calculated_host_listings_count  availability_365  number_of_reviews_ltm  \\\n",
       "308                               2               315                    110   \n",
       "250                               2               326                     76   \n",
       "462                               2               304                     79   \n",
       "\n",
       "    daily_price_bucket  \n",
       "308            100-200  \n",
       "250             50-100  \n",
       "462             50-100  "
      ]
     },
     "execution_count": 298,
     "metadata": {},
     "output_type": "execute_result"
    }
   ],
   "source": [
    "# that have got most number of reviews\n",
    "\n",
    "total_review_sorted = df.sort_values(by=['number_of_reviews'], ascending=False)\n",
    "total_review_top_3 = total_review_sorted.iloc[:3, :]\n",
    "total_review_top_3"
   ]
  },
  {
   "cell_type": "code",
   "execution_count": 299,
   "metadata": {},
   "outputs": [
    {
     "data": {
      "text/html": [
       "<div>\n",
       "<style scoped>\n",
       "    .dataframe tbody tr th:only-of-type {\n",
       "        vertical-align: middle;\n",
       "    }\n",
       "\n",
       "    .dataframe tbody tr th {\n",
       "        vertical-align: top;\n",
       "    }\n",
       "\n",
       "    .dataframe thead th {\n",
       "        text-align: right;\n",
       "    }\n",
       "</style>\n",
       "<table border=\"1\" class=\"dataframe\">\n",
       "  <thead>\n",
       "    <tr style=\"text-align: right;\">\n",
       "      <th></th>\n",
       "      <th>host_id</th>\n",
       "      <th>host_name</th>\n",
       "      <th>property_type</th>\n",
       "      <th>bedrooms</th>\n",
       "      <th>beds</th>\n",
       "      <th>bathrooms</th>\n",
       "      <th>ratings</th>\n",
       "      <th>neighbourhood</th>\n",
       "      <th>latitude</th>\n",
       "      <th>longitude</th>\n",
       "      <th>room_type</th>\n",
       "      <th>daily_price</th>\n",
       "      <th>minimum_nights</th>\n",
       "      <th>number_of_reviews</th>\n",
       "      <th>last_review</th>\n",
       "      <th>reviews_per_month</th>\n",
       "      <th>calculated_host_listings_count</th>\n",
       "      <th>availability_365</th>\n",
       "      <th>number_of_reviews_ltm</th>\n",
       "      <th>daily_price_bucket</th>\n",
       "    </tr>\n",
       "  </thead>\n",
       "  <tbody>\n",
       "    <tr>\n",
       "      <th>2315</th>\n",
       "      <td>2405754</td>\n",
       "      <td>Sarah Roxie</td>\n",
       "      <td>Guesthouse</td>\n",
       "      <td>1.0</td>\n",
       "      <td>2</td>\n",
       "      <td>1.0</td>\n",
       "      <td>5.0</td>\n",
       "      <td>78722</td>\n",
       "      <td>30.28858</td>\n",
       "      <td>-97.71418</td>\n",
       "      <td>Entire home/apt</td>\n",
       "      <td>126</td>\n",
       "      <td>3</td>\n",
       "      <td>246</td>\n",
       "      <td>2023-08-31</td>\n",
       "      <td>3.75</td>\n",
       "      <td>1</td>\n",
       "      <td>149</td>\n",
       "      <td>44</td>\n",
       "      <td>100-200</td>\n",
       "    </tr>\n",
       "    <tr>\n",
       "      <th>2982</th>\n",
       "      <td>132665147</td>\n",
       "      <td>Kimberly</td>\n",
       "      <td>Cottage</td>\n",
       "      <td>2.0</td>\n",
       "      <td>2</td>\n",
       "      <td>2.0</td>\n",
       "      <td>5.0</td>\n",
       "      <td>78734</td>\n",
       "      <td>30.41678</td>\n",
       "      <td>-97.92663</td>\n",
       "      <td>Entire home/apt</td>\n",
       "      <td>197</td>\n",
       "      <td>1</td>\n",
       "      <td>237</td>\n",
       "      <td>2023-08-27</td>\n",
       "      <td>4.06</td>\n",
       "      <td>3</td>\n",
       "      <td>351</td>\n",
       "      <td>61</td>\n",
       "      <td>100-200</td>\n",
       "    </tr>\n",
       "    <tr>\n",
       "      <th>3697</th>\n",
       "      <td>298907305</td>\n",
       "      <td>Justin And Deb</td>\n",
       "      <td>Home</td>\n",
       "      <td>1.0</td>\n",
       "      <td>2</td>\n",
       "      <td>1.0</td>\n",
       "      <td>5.0</td>\n",
       "      <td>78751</td>\n",
       "      <td>30.30953</td>\n",
       "      <td>-97.71699</td>\n",
       "      <td>Entire home/apt</td>\n",
       "      <td>102</td>\n",
       "      <td>2</td>\n",
       "      <td>226</td>\n",
       "      <td>2023-08-21</td>\n",
       "      <td>4.77</td>\n",
       "      <td>1</td>\n",
       "      <td>54</td>\n",
       "      <td>56</td>\n",
       "      <td>100-200</td>\n",
       "    </tr>\n",
       "  </tbody>\n",
       "</table>\n",
       "</div>"
      ],
      "text/plain": [
       "        host_id       host_name property_type  bedrooms  beds  bathrooms  \\\n",
       "2315    2405754     Sarah Roxie    Guesthouse       1.0     2        1.0   \n",
       "2982  132665147        Kimberly       Cottage       2.0     2        2.0   \n",
       "3697  298907305  Justin And Deb          Home       1.0     2        1.0   \n",
       "\n",
       "      ratings neighbourhood  latitude  longitude        room_type  \\\n",
       "2315      5.0         78722  30.28858  -97.71418  Entire home/apt   \n",
       "2982      5.0         78734  30.41678  -97.92663  Entire home/apt   \n",
       "3697      5.0         78751  30.30953  -97.71699  Entire home/apt   \n",
       "\n",
       "      daily_price  minimum_nights  number_of_reviews last_review  \\\n",
       "2315          126               3                246  2023-08-31   \n",
       "2982          197               1                237  2023-08-27   \n",
       "3697          102               2                226  2023-08-21   \n",
       "\n",
       "      reviews_per_month  calculated_host_listings_count  availability_365  \\\n",
       "2315               3.75                               1               149   \n",
       "2982               4.06                               3               351   \n",
       "3697               4.77                               1                54   \n",
       "\n",
       "      number_of_reviews_ltm daily_price_bucket  \n",
       "2315                     44            100-200  \n",
       "2982                     61            100-200  \n",
       "3697                     56            100-200  "
      ]
     },
     "execution_count": 299,
     "metadata": {},
     "output_type": "execute_result"
    }
   ],
   "source": [
    "# that have got 5 star ratings sorted by number of reviews\n",
    "\n",
    "tot_review_five_star_rating_sorted = total_review_sorted[total_review_sorted['ratings'] == 5]\n",
    "\n",
    "five_star_rating_top_3 = tot_review_five_star_rating_sorted.iloc[:3, :]\n",
    "five_star_rating_top_3"
   ]
  }
 ],
 "metadata": {
  "kernelspec": {
   "display_name": "Python 3.10.6 ('venv': venv)",
   "language": "python",
   "name": "python3"
  },
  "language_info": {
   "codemirror_mode": {
    "name": "ipython",
    "version": 3
   },
   "file_extension": ".py",
   "mimetype": "text/x-python",
   "name": "python",
   "nbconvert_exporter": "python",
   "pygments_lexer": "ipython3",
   "version": "3.10.6"
  },
  "orig_nbformat": 4,
  "vscode": {
   "interpreter": {
    "hash": "ec0e890b954293f34d16d4c104a129e3912c28c5e75cee8491611edc427a31d8"
   }
  }
 },
 "nbformat": 4,
 "nbformat_minor": 2
}
